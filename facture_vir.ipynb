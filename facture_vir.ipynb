{
  "cells": [
    {
      "cell_type": "code",
      "execution_count": null,
      "metadata": {
        "colab": {
          "base_uri": "https://localhost:8080/"
        },
        "id": "LUbJGTJJrdEK",
        "outputId": "1314efff-b567-4a4a-be78-95bda9b18aa9"
      },
      "outputs": [
        {
          "output_type": "stream",
          "name": "stdout",
          "text": [
            "Mounted at /content/drive\n"
          ]
        }
      ],
      "source": [
        "from google.colab import drive\n",
        "drive.mount('/content/drive')"
      ]
    },
    {
      "cell_type": "markdown",
      "metadata": {
        "id": "6wW8CTQQ-c7t"
      },
      "source": [
        "# Traitement General"
      ]
    },
    {
      "cell_type": "code",
      "execution_count": null,
      "metadata": {
        "id": "_MmOhYi5qnYT"
      },
      "outputs": [],
      "source": [
        "import pandas as pd\n",
        "import requests\n",
        "import re\n",
        "import missingno as msn\n",
        "import matplotlib.pyplot as plt\n",
        "import seaborn as sns\n",
        "import numpy as np\n",
        "import os\n",
        "\n",
        "import warnings\n",
        "warnings.filterwarnings('ignore')\n",
        "\n",
        "# Afficher toutes les lignes et colonnes\n",
        "pd.set_option('display.max_columns', None)"
      ]
    },
    {
      "cell_type": "code",
      "execution_count": null,
      "metadata": {
        "colab": {
          "base_uri": "https://localhost:8080/"
        },
        "id": "f4_OFVQjrj6C",
        "outputId": "2aa66eac-a8be-46aa-90f5-b43610f8f138"
      },
      "outputs": [
        {
          "output_type": "stream",
          "name": "stdout",
          "text": [
            "commandes vir depuis 2022  shape: (219530, 12)\n"
          ]
        }
      ],
      "source": [
        "# Charger le fichier des commandes de vir depuis 2022\n",
        "commandes = pd.read_excel(commandes_vir_22_path)\n",
        "print('commandes vir depuis 2022  shape:', commandes.shape)"
      ]
    },
    {
      "cell_type": "code",
      "execution_count": null,
      "metadata": {
        "id": "Ym7s2s8Wrjvh"
      },
      "outputs": [],
      "source": [
        "#Charger les path\n",
        "facture_principale_path = '/content/drive/Shareddrives/Supply chain/BU Logistique/27. Factures/VIR/Benelux/2024/Septembre 2024/FACTURATION BOBOCHIC SEPTEMBRE 2024 (1).xlsx'\n",
        "facture_complementaire_path = '/content/drive/Shareddrives/Supply chain/BU Logistique/27. Factures/VIR/Benelux/2024/Septembre 2024/FACTURE COMPL BOBOCHIC SEPTEMBRE 2024 (1).xlsx'\n",
        "commandes_vir_22_path = \"/content/drive/Shareddrives/Supply chain/BU Logistique/27. Factures/VIR/Commandes VIR depuis 2022/commandes_vir_2022.xlsx\""
      ]
    },
    {
      "cell_type": "code",
      "execution_count": null,
      "metadata": {
        "id": "Ki7DXdVqm7r_"
      },
      "outputs": [],
      "source": [
        "# Define file paths for monthly and annual files\n",
        "monthly_file_path = '/content/drive/Shareddrives/Supply chain/BU Logistique/27. Factures/VIR/Benelux/2024/Septembre 2024/facture_septembre_24.xlsx'\n",
        "annual_file_path = '/content/drive/Shareddrives/Supply chain/BU Logistique/27. Factures/VIR/Benelux/2024/annual_data_benelux.xlsx'\n"
      ]
    },
    {
      "cell_type": "code",
      "execution_count": null,
      "metadata": {
        "colab": {
          "base_uri": "https://localhost:8080/"
        },
        "id": "DCBfCaTknUa8",
        "outputId": "feb715e9-abff-495a-8fdd-c9a4b257edeb"
      },
      "outputs": [
        {
          "output_type": "stream",
          "name": "stdout",
          "text": [
            "facture_principale shape: (4230, 41)\n",
            "facture_complementaire  shape: (390, 22)\n"
          ]
        }
      ],
      "source": [
        "# Charger les données du fichier principal (onglet CUMUL)\n",
        "facture_principale = pd.read_excel(facture_principale_path, sheet_name='CUMUL')\n",
        "print('facture_principale shape:', facture_principale.shape)\n",
        "# Charger le fichier facture complémentaire\n",
        "facture_complementaire = pd.read_excel(facture_complementaire_path, sheet_name='CUMUL')\n",
        "print('facture_complementaire  shape:', facture_complementaire.shape)"
      ]
    },
    {
      "cell_type": "code",
      "execution_count": null,
      "metadata": {
        "id": "3Dtr7Xn_sHqZ"
      },
      "outputs": [],
      "source": [
        "# Nettoyage des références de commande : conserver uniquement les 9 premières lettres\n",
        "def nettoyer_reference(ref):\n",
        "    return re.sub(r'[^A-Za-z]', '', str(ref))[:9]\n",
        "\n",
        "facture_principale['Reference'] = facture_principale['Reference'].apply(nettoyer_reference)\n",
        "facture_complementaire['Référence'] = facture_complementaire['Référence'].apply(nettoyer_reference)"
      ]
    },
    {
      "cell_type": "code",
      "execution_count": null,
      "metadata": {
        "id": "RrRAL6FQ4nya"
      },
      "outputs": [],
      "source": [
        "# Renommer 'Référence' en 'Reference' et 'Dpt' en 'C.Postal' dans facture_complementaire\n",
        "facture_complementaire = facture_complementaire.rename(columns={'Référence': 'Reference', 'Dpt': 'C.Postal', 'Rubrique': 'Rub'})\n",
        "facture_principale = facture_principale.rename(columns={'Kg': 'Poids'})\n",
        "commandes = commandes.rename(columns={'REFERENCE': 'Reference'})"
      ]
    },
    {
      "cell_type": "code",
      "execution_count": null,
      "metadata": {
        "id": "iXeI-s_Syu4f"
      },
      "outputs": [],
      "source": [
        "# Garder seulement les 2 premiers chiffres dans la colonne 'C.Postal' pour les deux DataFrames\n",
        "facture_principale['C.Postal'] = facture_principale['C.Postal'].astype(str).str[:2]\n",
        "facture_complementaire['C.Postal'] = facture_complementaire['C.Postal'].astype(str).str[:2]"
      ]
    },
    {
      "cell_type": "code",
      "execution_count": null,
      "metadata": {
        "id": "5MNeXui75OkP"
      },
      "outputs": [],
      "source": [
        "# Filtre pour le libellé commençant par 'LIV' ou contenant 'Emporté dépôt'\n",
        "filtre_libelle = facture_principale['Libelle'].str.startswith('LIV') | (facture_principale['Libelle'] == 'EMPORTE DEPOT')"
      ]
    },
    {
      "cell_type": "code",
      "execution_count": null,
      "metadata": {
        "colab": {
          "base_uri": "https://localhost:8080/"
        },
        "id": "GMs_SXeC27FH",
        "outputId": "5a0bf3c3-460d-45ea-8d98-2cfef78b682d"
      },
      "outputs": [
        {
          "output_type": "execute_result",
          "data": {
            "text/plain": [
              "192518"
            ]
          },
          "metadata": {},
          "execution_count": 252
        }
      ],
      "source": [
        "liste_references_commandes = commandes['Reference'].unique().tolist()\n",
        "len(liste_references_commandes)"
      ]
    },
    {
      "cell_type": "code",
      "execution_count": null,
      "metadata": {
        "id": "hrmUPoj8Qbma"
      },
      "outputs": [],
      "source": [
        "commandes_unique = commandes.drop_duplicates(subset=['Reference'])"
      ]
    },
    {
      "cell_type": "code",
      "execution_count": null,
      "metadata": {
        "id": "28PccuXxQXpO"
      },
      "outputs": [],
      "source": [
        "# Effectuer le merge\n",
        "facture_principale_merged = pd.merge(\n",
        "    facture_principale,\n",
        "    commandes_unique,\n",
        "    on='Reference',\n",
        "    how='left'\n",
        ")"
      ]
    },
    {
      "cell_type": "code",
      "execution_count": null,
      "metadata": {
        "id": "uRD0v7VEQXxW"
      },
      "outputs": [],
      "source": [
        "# Effectuer le merge\n",
        "facture_complementaire_merged = pd.merge(\n",
        "    facture_complementaire,\n",
        "    commandes_unique,\n",
        "    on='Reference',\n",
        "    how='left'\n",
        ")"
      ]
    },
    {
      "cell_type": "code",
      "execution_count": null,
      "metadata": {
        "colab": {
          "base_uri": "https://localhost:8080/"
        },
        "id": "vGXyss_J27K-",
        "outputId": "637554c5-b6fd-4c0d-97d2-eedd1b4d332c"
      },
      "outputs": [
        {
          "output_type": "execute_result",
          "data": {
            "text/plain": [
              "3765"
            ]
          },
          "metadata": {},
          "execution_count": 256
        }
      ],
      "source": [
        "liste_references_facture_principale = facture_principale['Reference'].unique().tolist()\n",
        "len(liste_references_facture_principale)\n"
      ]
    },
    {
      "cell_type": "code",
      "execution_count": null,
      "metadata": {
        "colab": {
          "base_uri": "https://localhost:8080/"
        },
        "id": "Wn-q70yqfIQF",
        "outputId": "6b85f1df-ded4-487e-ec42-c5740ca15786"
      },
      "outputs": [
        {
          "output_type": "stream",
          "name": "stdout",
          "text": [
            "commandes: (219530, 12)\n",
            "*******************************\n",
            "facture_principale avant le merge: (4230, 41)\n",
            "facture_principale apres le merge: (4230, 52)\n",
            "*******************************\n",
            "facture_complementaire avant le merge: (390, 22)\n",
            "facture_complementaire apres le merge: (390, 33)\n"
          ]
        }
      ],
      "source": [
        "print('commandes:', commandes.shape)\n",
        "print(\"*******************************\")\n",
        "print('facture_principale avant le merge:', facture_principale.shape)\n",
        "print('facture_principale apres le merge:', facture_principale_merged.shape)\n",
        "print(\"*******************************\")\n",
        "print('facture_complementaire avant le merge:', facture_complementaire.shape)\n",
        "print('facture_complementaire apres le merge:', facture_complementaire_merged.shape)"
      ]
    },
    {
      "cell_type": "code",
      "execution_count": null,
      "metadata": {
        "colab": {
          "base_uri": "https://localhost:8080/"
        },
        "id": "CbYzFDGvsYkQ",
        "outputId": "95f4bfa0-f1f3-4e12-c136-592ad755890e"
      },
      "outputs": [
        {
          "output_type": "execute_result",
          "data": {
            "text/plain": [
              "19"
            ]
          },
          "metadata": {},
          "execution_count": 258
        }
      ],
      "source": [
        "# Création du dictionnaire de correspondance entre Rub et Libelle depuis facture_principal\n",
        "rub_libelle_dict = dict(zip(facture_principale['Rub'], facture_principale['Libelle']))\n",
        "len(rub_libelle_dict)\n"
      ]
    },
    {
      "cell_type": "code",
      "execution_count": null,
      "metadata": {
        "colab": {
          "base_uri": "https://localhost:8080/"
        },
        "id": "E7xELfwjsdSY",
        "outputId": "a25ee53e-ee41-461e-a60e-4cdce752df53"
      },
      "outputs": [
        {
          "output_type": "execute_result",
          "data": {
            "text/plain": [
              "{'ENL': 'ENLEVEMENT DEPOT',\n",
              " 'FA': 'FRAIS ADMINISTRATIFS',\n",
              " 'PA4': 'PASSAGE A 4',\n",
              " 'LS': 'LIV STANDARD',\n",
              " 'MTA': 'MONTAGE CLASSE A',\n",
              " 'LI': 'LIV INSTALLATION',\n",
              " 'LC': 'LIV ECONOMIQUE',\n",
              " 'ED': 'EMPORTE DEPOT',\n",
              " 'RPC': 'REPRISE POUR DESTRUCTION CANAPE',\n",
              " 'STO': 'STOCKAGE',\n",
              " 'LM': 'LIV MONTAGE',\n",
              " 'MTB': 'MONTAGE CLASSE B',\n",
              " 'RPM': 'REPRISE POUR DESTRUCTION MEUBLE',\n",
              " 'RPE': 'REPRISE ELECTRO DEEE',\n",
              " 'RPL': 'REPRISE POUR DESTRUCTION LITERIE',\n",
              " 'LD': 'LIV DEBALLAGE',\n",
              " 'RET': 'RETOUR REVERSE',\n",
              " 'MTC': 'MONTAGE CLASSE C',\n",
              " 'PA': 'PASSAGE A 4'}"
            ]
          },
          "metadata": {},
          "execution_count": 259
        }
      ],
      "source": [
        "rub_libelle_dict"
      ]
    },
    {
      "cell_type": "markdown",
      "metadata": {
        "id": "la2efGGG4oJB"
      },
      "source": [
        "# Factures principales"
      ]
    },
    {
      "cell_type": "code",
      "execution_count": null,
      "metadata": {
        "colab": {
          "base_uri": "https://localhost:8080/",
          "height": 302
        },
        "id": "aV7Y541M2cg4",
        "outputId": "a2f12505-2b69-4c88-a375-3c3da8e8dc7f"
      },
      "outputs": [
        {
          "output_type": "execute_result",
          "data": {
            "text/plain": [
              "    Code          Nom DO/EN     DO   Ens.     Enseigne  Commande  Reference  \\\n",
              "0  70907  NEGOMARKETS    DO  70907  70907  NEGOMARKETS      1000  TOURNEEGB   \n",
              "1  70907  NEGOMARKETS    DO  70907  70907  NEGOMARKETS      1000  TOURNEEGB   \n",
              "2  70907  NEGOMARKETS    DO  70907  70907  NEGOMARKETS      1000  TOURNEEGB   \n",
              "\n",
              "  Reference2             Destinataire C.Postal         Ville Mode RDV  \\\n",
              "0        NaN  TOURNEE DEDIEE BOBOCHIC       77  EMERAINVILLE      EDI   \n",
              "1        NaN  TOURNEE DEDIEE BOBOCHIC       77  EMERAINVILLE      EDI   \n",
              "2        NaN  TOURNEE DEDIEE BOBOCHIC       77  EMERAINVILLE      EDI   \n",
              "\n",
              "      Saisie Réception Premier appel  Délai phoning Prise RDV  \\\n",
              "0 2024-09-16       NaT           NaT            NaN       NaT   \n",
              "1 2024-09-16       NaT           NaT            NaN       NaT   \n",
              "2 2024-09-17       NaT           NaT            NaN       NaT   \n",
              "\n",
              "   Première date dispo  Meilleur délai proposé  Livraison  Délai Liv   Point  \\\n",
              "0                  NaN                     NaN 2024-09-17        0.0  LIVCFM   \n",
              "1                  NaN                     NaN 2024-09-18        1.0  LIVCFM   \n",
              "2                  NaN                     NaN 2024-09-19        1.0  LIVCFM   \n",
              "\n",
              "        Date  Rub           Libelle  Qte  UN   PU  DISTRIBUTION  APPROCHE  \\\n",
              "0 2024-09-18  ENL  ENLEVEMENT DEPOT  1.0  UN  0.0         850.0       NaN   \n",
              "1 2024-09-19  ENL  ENLEVEMENT DEPOT  1.0  UN  0.0         850.0       NaN   \n",
              "2 2024-09-19  ENL  ENLEVEMENT DEPOT  1.0  UN  0.0         850.0       NaN   \n",
              "\n",
              "   GASOIL DISTRI  GASOIL APP  Ag  Liv   Dir  Vol  Poids  Prd Trafic  saisie  \\\n",
              "0           18.7         0.0  96   96  TBO1  NaN    NaN  NaN    ENL  SAISIE   \n",
              "1           18.7         0.0  96   96  TBO1  NaN    NaN  NaN    ENL  SAISIE   \n",
              "2           18.7         0.0  96   96  TBO1  NaN    NaN  NaN    ENL  SAISIE   \n",
              "\n",
              "   ID_PRODUIT CATEGORY DESIGNATION  CA_presta  QTY  TRANSPORT_ACHAT  POIDS  \\\n",
              "0         NaN      NaN         NaN        NaN  NaN              NaN    NaN   \n",
              "1         NaN      NaN         NaN        NaN  NaN              NaN    NaN   \n",
              "2         NaN      NaN         NaN        NaN  NaN              NaN    NaN   \n",
              "\n",
              "   NB_COLIS TRANSPORTEUR SUPPLIER mode de paiement  \n",
              "0       NaN          NaN      NaN              NaN  \n",
              "1       NaN          NaN      NaN              NaN  \n",
              "2       NaN          NaN      NaN              NaN  "
            ],
            "text/html": [
              "\n",
              "  <div id=\"df-9e4cd264-d89e-4988-9fe5-b1d2afe7024d\" class=\"colab-df-container\">\n",
              "    <div>\n",
              "<style scoped>\n",
              "    .dataframe tbody tr th:only-of-type {\n",
              "        vertical-align: middle;\n",
              "    }\n",
              "\n",
              "    .dataframe tbody tr th {\n",
              "        vertical-align: top;\n",
              "    }\n",
              "\n",
              "    .dataframe thead th {\n",
              "        text-align: right;\n",
              "    }\n",
              "</style>\n",
              "<table border=\"1\" class=\"dataframe\">\n",
              "  <thead>\n",
              "    <tr style=\"text-align: right;\">\n",
              "      <th></th>\n",
              "      <th>Code</th>\n",
              "      <th>Nom</th>\n",
              "      <th>DO/EN</th>\n",
              "      <th>DO</th>\n",
              "      <th>Ens.</th>\n",
              "      <th>Enseigne</th>\n",
              "      <th>Commande</th>\n",
              "      <th>Reference</th>\n",
              "      <th>Reference2</th>\n",
              "      <th>Destinataire</th>\n",
              "      <th>C.Postal</th>\n",
              "      <th>Ville</th>\n",
              "      <th>Mode RDV</th>\n",
              "      <th>Saisie</th>\n",
              "      <th>Réception</th>\n",
              "      <th>Premier appel</th>\n",
              "      <th>Délai phoning</th>\n",
              "      <th>Prise RDV</th>\n",
              "      <th>Première date dispo</th>\n",
              "      <th>Meilleur délai proposé</th>\n",
              "      <th>Livraison</th>\n",
              "      <th>Délai Liv</th>\n",
              "      <th>Point</th>\n",
              "      <th>Date</th>\n",
              "      <th>Rub</th>\n",
              "      <th>Libelle</th>\n",
              "      <th>Qte</th>\n",
              "      <th>UN</th>\n",
              "      <th>PU</th>\n",
              "      <th>DISTRIBUTION</th>\n",
              "      <th>APPROCHE</th>\n",
              "      <th>GASOIL DISTRI</th>\n",
              "      <th>GASOIL APP</th>\n",
              "      <th>Ag</th>\n",
              "      <th>Liv</th>\n",
              "      <th>Dir</th>\n",
              "      <th>Vol</th>\n",
              "      <th>Poids</th>\n",
              "      <th>Prd</th>\n",
              "      <th>Trafic</th>\n",
              "      <th>saisie</th>\n",
              "      <th>ID_PRODUIT</th>\n",
              "      <th>CATEGORY</th>\n",
              "      <th>DESIGNATION</th>\n",
              "      <th>CA_presta</th>\n",
              "      <th>QTY</th>\n",
              "      <th>TRANSPORT_ACHAT</th>\n",
              "      <th>POIDS</th>\n",
              "      <th>NB_COLIS</th>\n",
              "      <th>TRANSPORTEUR</th>\n",
              "      <th>SUPPLIER</th>\n",
              "      <th>mode de paiement</th>\n",
              "    </tr>\n",
              "  </thead>\n",
              "  <tbody>\n",
              "    <tr>\n",
              "      <th>0</th>\n",
              "      <td>70907</td>\n",
              "      <td>NEGOMARKETS</td>\n",
              "      <td>DO</td>\n",
              "      <td>70907</td>\n",
              "      <td>70907</td>\n",
              "      <td>NEGOMARKETS</td>\n",
              "      <td>1000</td>\n",
              "      <td>TOURNEEGB</td>\n",
              "      <td>NaN</td>\n",
              "      <td>TOURNEE DEDIEE BOBOCHIC</td>\n",
              "      <td>77</td>\n",
              "      <td>EMERAINVILLE</td>\n",
              "      <td>EDI</td>\n",
              "      <td>2024-09-16</td>\n",
              "      <td>NaT</td>\n",
              "      <td>NaT</td>\n",
              "      <td>NaN</td>\n",
              "      <td>NaT</td>\n",
              "      <td>NaN</td>\n",
              "      <td>NaN</td>\n",
              "      <td>2024-09-17</td>\n",
              "      <td>0.0</td>\n",
              "      <td>LIVCFM</td>\n",
              "      <td>2024-09-18</td>\n",
              "      <td>ENL</td>\n",
              "      <td>ENLEVEMENT DEPOT</td>\n",
              "      <td>1.0</td>\n",
              "      <td>UN</td>\n",
              "      <td>0.0</td>\n",
              "      <td>850.0</td>\n",
              "      <td>NaN</td>\n",
              "      <td>18.7</td>\n",
              "      <td>0.0</td>\n",
              "      <td>96</td>\n",
              "      <td>96</td>\n",
              "      <td>TBO1</td>\n",
              "      <td>NaN</td>\n",
              "      <td>NaN</td>\n",
              "      <td>NaN</td>\n",
              "      <td>ENL</td>\n",
              "      <td>SAISIE</td>\n",
              "      <td>NaN</td>\n",
              "      <td>NaN</td>\n",
              "      <td>NaN</td>\n",
              "      <td>NaN</td>\n",
              "      <td>NaN</td>\n",
              "      <td>NaN</td>\n",
              "      <td>NaN</td>\n",
              "      <td>NaN</td>\n",
              "      <td>NaN</td>\n",
              "      <td>NaN</td>\n",
              "      <td>NaN</td>\n",
              "    </tr>\n",
              "    <tr>\n",
              "      <th>1</th>\n",
              "      <td>70907</td>\n",
              "      <td>NEGOMARKETS</td>\n",
              "      <td>DO</td>\n",
              "      <td>70907</td>\n",
              "      <td>70907</td>\n",
              "      <td>NEGOMARKETS</td>\n",
              "      <td>1000</td>\n",
              "      <td>TOURNEEGB</td>\n",
              "      <td>NaN</td>\n",
              "      <td>TOURNEE DEDIEE BOBOCHIC</td>\n",
              "      <td>77</td>\n",
              "      <td>EMERAINVILLE</td>\n",
              "      <td>EDI</td>\n",
              "      <td>2024-09-16</td>\n",
              "      <td>NaT</td>\n",
              "      <td>NaT</td>\n",
              "      <td>NaN</td>\n",
              "      <td>NaT</td>\n",
              "      <td>NaN</td>\n",
              "      <td>NaN</td>\n",
              "      <td>2024-09-18</td>\n",
              "      <td>1.0</td>\n",
              "      <td>LIVCFM</td>\n",
              "      <td>2024-09-19</td>\n",
              "      <td>ENL</td>\n",
              "      <td>ENLEVEMENT DEPOT</td>\n",
              "      <td>1.0</td>\n",
              "      <td>UN</td>\n",
              "      <td>0.0</td>\n",
              "      <td>850.0</td>\n",
              "      <td>NaN</td>\n",
              "      <td>18.7</td>\n",
              "      <td>0.0</td>\n",
              "      <td>96</td>\n",
              "      <td>96</td>\n",
              "      <td>TBO1</td>\n",
              "      <td>NaN</td>\n",
              "      <td>NaN</td>\n",
              "      <td>NaN</td>\n",
              "      <td>ENL</td>\n",
              "      <td>SAISIE</td>\n",
              "      <td>NaN</td>\n",
              "      <td>NaN</td>\n",
              "      <td>NaN</td>\n",
              "      <td>NaN</td>\n",
              "      <td>NaN</td>\n",
              "      <td>NaN</td>\n",
              "      <td>NaN</td>\n",
              "      <td>NaN</td>\n",
              "      <td>NaN</td>\n",
              "      <td>NaN</td>\n",
              "      <td>NaN</td>\n",
              "    </tr>\n",
              "    <tr>\n",
              "      <th>2</th>\n",
              "      <td>70907</td>\n",
              "      <td>NEGOMARKETS</td>\n",
              "      <td>DO</td>\n",
              "      <td>70907</td>\n",
              "      <td>70907</td>\n",
              "      <td>NEGOMARKETS</td>\n",
              "      <td>1000</td>\n",
              "      <td>TOURNEEGB</td>\n",
              "      <td>NaN</td>\n",
              "      <td>TOURNEE DEDIEE BOBOCHIC</td>\n",
              "      <td>77</td>\n",
              "      <td>EMERAINVILLE</td>\n",
              "      <td>EDI</td>\n",
              "      <td>2024-09-17</td>\n",
              "      <td>NaT</td>\n",
              "      <td>NaT</td>\n",
              "      <td>NaN</td>\n",
              "      <td>NaT</td>\n",
              "      <td>NaN</td>\n",
              "      <td>NaN</td>\n",
              "      <td>2024-09-19</td>\n",
              "      <td>1.0</td>\n",
              "      <td>LIVCFM</td>\n",
              "      <td>2024-09-19</td>\n",
              "      <td>ENL</td>\n",
              "      <td>ENLEVEMENT DEPOT</td>\n",
              "      <td>1.0</td>\n",
              "      <td>UN</td>\n",
              "      <td>0.0</td>\n",
              "      <td>850.0</td>\n",
              "      <td>NaN</td>\n",
              "      <td>18.7</td>\n",
              "      <td>0.0</td>\n",
              "      <td>96</td>\n",
              "      <td>96</td>\n",
              "      <td>TBO1</td>\n",
              "      <td>NaN</td>\n",
              "      <td>NaN</td>\n",
              "      <td>NaN</td>\n",
              "      <td>ENL</td>\n",
              "      <td>SAISIE</td>\n",
              "      <td>NaN</td>\n",
              "      <td>NaN</td>\n",
              "      <td>NaN</td>\n",
              "      <td>NaN</td>\n",
              "      <td>NaN</td>\n",
              "      <td>NaN</td>\n",
              "      <td>NaN</td>\n",
              "      <td>NaN</td>\n",
              "      <td>NaN</td>\n",
              "      <td>NaN</td>\n",
              "      <td>NaN</td>\n",
              "    </tr>\n",
              "  </tbody>\n",
              "</table>\n",
              "</div>\n",
              "    <div class=\"colab-df-buttons\">\n",
              "\n",
              "  <div class=\"colab-df-container\">\n",
              "    <button class=\"colab-df-convert\" onclick=\"convertToInteractive('df-9e4cd264-d89e-4988-9fe5-b1d2afe7024d')\"\n",
              "            title=\"Convert this dataframe to an interactive table.\"\n",
              "            style=\"display:none;\">\n",
              "\n",
              "  <svg xmlns=\"http://www.w3.org/2000/svg\" height=\"24px\" viewBox=\"0 -960 960 960\">\n",
              "    <path d=\"M120-120v-720h720v720H120Zm60-500h600v-160H180v160Zm220 220h160v-160H400v160Zm0 220h160v-160H400v160ZM180-400h160v-160H180v160Zm440 0h160v-160H620v160ZM180-180h160v-160H180v160Zm440 0h160v-160H620v160Z\"/>\n",
              "  </svg>\n",
              "    </button>\n",
              "\n",
              "  <style>\n",
              "    .colab-df-container {\n",
              "      display:flex;\n",
              "      gap: 12px;\n",
              "    }\n",
              "\n",
              "    .colab-df-convert {\n",
              "      background-color: #E8F0FE;\n",
              "      border: none;\n",
              "      border-radius: 50%;\n",
              "      cursor: pointer;\n",
              "      display: none;\n",
              "      fill: #1967D2;\n",
              "      height: 32px;\n",
              "      padding: 0 0 0 0;\n",
              "      width: 32px;\n",
              "    }\n",
              "\n",
              "    .colab-df-convert:hover {\n",
              "      background-color: #E2EBFA;\n",
              "      box-shadow: 0px 1px 2px rgba(60, 64, 67, 0.3), 0px 1px 3px 1px rgba(60, 64, 67, 0.15);\n",
              "      fill: #174EA6;\n",
              "    }\n",
              "\n",
              "    .colab-df-buttons div {\n",
              "      margin-bottom: 4px;\n",
              "    }\n",
              "\n",
              "    [theme=dark] .colab-df-convert {\n",
              "      background-color: #3B4455;\n",
              "      fill: #D2E3FC;\n",
              "    }\n",
              "\n",
              "    [theme=dark] .colab-df-convert:hover {\n",
              "      background-color: #434B5C;\n",
              "      box-shadow: 0px 1px 3px 1px rgba(0, 0, 0, 0.15);\n",
              "      filter: drop-shadow(0px 1px 2px rgba(0, 0, 0, 0.3));\n",
              "      fill: #FFFFFF;\n",
              "    }\n",
              "  </style>\n",
              "\n",
              "    <script>\n",
              "      const buttonEl =\n",
              "        document.querySelector('#df-9e4cd264-d89e-4988-9fe5-b1d2afe7024d button.colab-df-convert');\n",
              "      buttonEl.style.display =\n",
              "        google.colab.kernel.accessAllowed ? 'block' : 'none';\n",
              "\n",
              "      async function convertToInteractive(key) {\n",
              "        const element = document.querySelector('#df-9e4cd264-d89e-4988-9fe5-b1d2afe7024d');\n",
              "        const dataTable =\n",
              "          await google.colab.kernel.invokeFunction('convertToInteractive',\n",
              "                                                    [key], {});\n",
              "        if (!dataTable) return;\n",
              "\n",
              "        const docLinkHtml = 'Like what you see? Visit the ' +\n",
              "          '<a target=\"_blank\" href=https://colab.research.google.com/notebooks/data_table.ipynb>data table notebook</a>'\n",
              "          + ' to learn more about interactive tables.';\n",
              "        element.innerHTML = '';\n",
              "        dataTable['output_type'] = 'display_data';\n",
              "        await google.colab.output.renderOutput(dataTable, element);\n",
              "        const docLink = document.createElement('div');\n",
              "        docLink.innerHTML = docLinkHtml;\n",
              "        element.appendChild(docLink);\n",
              "      }\n",
              "    </script>\n",
              "  </div>\n",
              "\n",
              "\n",
              "<div id=\"df-b1a54332-64e1-47a2-b637-a67af529c19f\">\n",
              "  <button class=\"colab-df-quickchart\" onclick=\"quickchart('df-b1a54332-64e1-47a2-b637-a67af529c19f')\"\n",
              "            title=\"Suggest charts\"\n",
              "            style=\"display:none;\">\n",
              "\n",
              "<svg xmlns=\"http://www.w3.org/2000/svg\" height=\"24px\"viewBox=\"0 0 24 24\"\n",
              "     width=\"24px\">\n",
              "    <g>\n",
              "        <path d=\"M19 3H5c-1.1 0-2 .9-2 2v14c0 1.1.9 2 2 2h14c1.1 0 2-.9 2-2V5c0-1.1-.9-2-2-2zM9 17H7v-7h2v7zm4 0h-2V7h2v10zm4 0h-2v-4h2v4z\"/>\n",
              "    </g>\n",
              "</svg>\n",
              "  </button>\n",
              "\n",
              "<style>\n",
              "  .colab-df-quickchart {\n",
              "      --bg-color: #E8F0FE;\n",
              "      --fill-color: #1967D2;\n",
              "      --hover-bg-color: #E2EBFA;\n",
              "      --hover-fill-color: #174EA6;\n",
              "      --disabled-fill-color: #AAA;\n",
              "      --disabled-bg-color: #DDD;\n",
              "  }\n",
              "\n",
              "  [theme=dark] .colab-df-quickchart {\n",
              "      --bg-color: #3B4455;\n",
              "      --fill-color: #D2E3FC;\n",
              "      --hover-bg-color: #434B5C;\n",
              "      --hover-fill-color: #FFFFFF;\n",
              "      --disabled-bg-color: #3B4455;\n",
              "      --disabled-fill-color: #666;\n",
              "  }\n",
              "\n",
              "  .colab-df-quickchart {\n",
              "    background-color: var(--bg-color);\n",
              "    border: none;\n",
              "    border-radius: 50%;\n",
              "    cursor: pointer;\n",
              "    display: none;\n",
              "    fill: var(--fill-color);\n",
              "    height: 32px;\n",
              "    padding: 0;\n",
              "    width: 32px;\n",
              "  }\n",
              "\n",
              "  .colab-df-quickchart:hover {\n",
              "    background-color: var(--hover-bg-color);\n",
              "    box-shadow: 0 1px 2px rgba(60, 64, 67, 0.3), 0 1px 3px 1px rgba(60, 64, 67, 0.15);\n",
              "    fill: var(--button-hover-fill-color);\n",
              "  }\n",
              "\n",
              "  .colab-df-quickchart-complete:disabled,\n",
              "  .colab-df-quickchart-complete:disabled:hover {\n",
              "    background-color: var(--disabled-bg-color);\n",
              "    fill: var(--disabled-fill-color);\n",
              "    box-shadow: none;\n",
              "  }\n",
              "\n",
              "  .colab-df-spinner {\n",
              "    border: 2px solid var(--fill-color);\n",
              "    border-color: transparent;\n",
              "    border-bottom-color: var(--fill-color);\n",
              "    animation:\n",
              "      spin 1s steps(1) infinite;\n",
              "  }\n",
              "\n",
              "  @keyframes spin {\n",
              "    0% {\n",
              "      border-color: transparent;\n",
              "      border-bottom-color: var(--fill-color);\n",
              "      border-left-color: var(--fill-color);\n",
              "    }\n",
              "    20% {\n",
              "      border-color: transparent;\n",
              "      border-left-color: var(--fill-color);\n",
              "      border-top-color: var(--fill-color);\n",
              "    }\n",
              "    30% {\n",
              "      border-color: transparent;\n",
              "      border-left-color: var(--fill-color);\n",
              "      border-top-color: var(--fill-color);\n",
              "      border-right-color: var(--fill-color);\n",
              "    }\n",
              "    40% {\n",
              "      border-color: transparent;\n",
              "      border-right-color: var(--fill-color);\n",
              "      border-top-color: var(--fill-color);\n",
              "    }\n",
              "    60% {\n",
              "      border-color: transparent;\n",
              "      border-right-color: var(--fill-color);\n",
              "    }\n",
              "    80% {\n",
              "      border-color: transparent;\n",
              "      border-right-color: var(--fill-color);\n",
              "      border-bottom-color: var(--fill-color);\n",
              "    }\n",
              "    90% {\n",
              "      border-color: transparent;\n",
              "      border-bottom-color: var(--fill-color);\n",
              "    }\n",
              "  }\n",
              "</style>\n",
              "\n",
              "  <script>\n",
              "    async function quickchart(key) {\n",
              "      const quickchartButtonEl =\n",
              "        document.querySelector('#' + key + ' button');\n",
              "      quickchartButtonEl.disabled = true;  // To prevent multiple clicks.\n",
              "      quickchartButtonEl.classList.add('colab-df-spinner');\n",
              "      try {\n",
              "        const charts = await google.colab.kernel.invokeFunction(\n",
              "            'suggestCharts', [key], {});\n",
              "      } catch (error) {\n",
              "        console.error('Error during call to suggestCharts:', error);\n",
              "      }\n",
              "      quickchartButtonEl.classList.remove('colab-df-spinner');\n",
              "      quickchartButtonEl.classList.add('colab-df-quickchart-complete');\n",
              "    }\n",
              "    (() => {\n",
              "      let quickchartButtonEl =\n",
              "        document.querySelector('#df-b1a54332-64e1-47a2-b637-a67af529c19f button');\n",
              "      quickchartButtonEl.style.display =\n",
              "        google.colab.kernel.accessAllowed ? 'block' : 'none';\n",
              "    })();\n",
              "  </script>\n",
              "</div>\n",
              "\n",
              "    </div>\n",
              "  </div>\n"
            ],
            "application/vnd.google.colaboratory.intrinsic+json": {
              "type": "dataframe",
              "variable_name": "facture_principale_merged"
            }
          },
          "metadata": {},
          "execution_count": 260
        }
      ],
      "source": [
        "facture_principale_merged.head(3)"
      ]
    },
    {
      "cell_type": "code",
      "execution_count": null,
      "metadata": {
        "id": "uSL3DHBRyfMU"
      },
      "outputs": [],
      "source": [
        "colonnes_a_supprimer = ['Prd',  'Qte', 'UN',  'Destinataire', 'Enseigne',\n",
        "                        'Reference2','Première date dispo','Ag','Nom','Délai Liv',\n",
        "                        'Meilleur délai proposé','DO', \"Ens.\",'Mode RDV','Point',\n",
        "                        'Premier appel','Saisie', 'Réception',  'Délai phoning',\n",
        "                        'Prise RDV','Date','DO/EN','Trafic' ,'Date']\n",
        "facture_principale_merged = facture_principale_merged.drop(columns=colonnes_a_supprimer)"
      ]
    },
    {
      "cell_type": "code",
      "execution_count": null,
      "metadata": {
        "colab": {
          "base_uri": "https://localhost:8080/"
        },
        "id": "ApHtnvb44LEJ",
        "outputId": "6658ae1d-1d75-49e0-f8cb-727bb4129f20"
      },
      "outputs": [
        {
          "output_type": "execute_result",
          "data": {
            "text/plain": [
              "(4230, 29)"
            ]
          },
          "metadata": {},
          "execution_count": 262
        }
      ],
      "source": [
        "facture_principale_merged.shape"
      ]
    },
    {
      "cell_type": "code",
      "execution_count": null,
      "metadata": {
        "id": "4Jdni3-Y1Hzd"
      },
      "outputs": [],
      "source": [
        "# Renommer la colonne 'Unnamed: 33' en 'Total'\n",
        "facture_principale_merged = facture_principale_merged.rename(columns={'Unnamed: 34': 'Total', 'Liv': 'Agence', 'Commande':\"commande_VIR\", \"PU\" : \"CA\", \"Livraison\" : \"Date\", 'Vol': 'Volume'})\n",
        "\n",
        "# Calculer la somme des colonnes spécifiées pour chaque ligne et l'attribuer à la colonne 'Total'\n",
        "facture_principale_merged['Total'] = facture_principale_merged[[ 'DISTRIBUTION', 'APPROCHE', 'GASOIL DISTRI',\n",
        "       'GASOIL APP']].sum(axis=1)\n",
        "# Arrondir la colonne 'Total' à 2 décimales\n",
        "facture_principale_merged['Total'] = facture_principale_merged['Total'].round(2)"
      ]
    },
    {
      "cell_type": "code",
      "execution_count": null,
      "metadata": {
        "colab": {
          "base_uri": "https://localhost:8080/"
        },
        "id": "W6OOrIPhtrjC",
        "outputId": "2b2c36b4-4dc7-476b-c19a-58ddee439933"
      },
      "outputs": [
        {
          "output_type": "stream",
          "name": "stdout",
          "text": [
            "        Date  Mois\n",
            "0 2024-09-17   9.0\n",
            "1 2024-09-18   9.0\n",
            "2 2024-09-19   9.0\n",
            "3 2024-09-20   9.0\n",
            "4 2024-09-21   9.0\n"
          ]
        }
      ],
      "source": [
        "#Étape 1 : Convertir la colonne 'Date' en format datetime\n",
        "facture_principale_merged['Date'] = pd.to_datetime(facture_principale_merged['Date'], errors='coerce')\n",
        "\n",
        "# Étape 2 : Extraire le mois de la colonne 'Date'\n",
        "facture_principale_merged['Mois'] = facture_principale_merged['Date'].dt.month\n",
        "# Vérification des résultats\n",
        "print(facture_principale_merged[['Date', 'Mois']].head())"
      ]
    },
    {
      "cell_type": "code",
      "execution_count": null,
      "metadata": {
        "colab": {
          "base_uri": "https://localhost:8080/"
        },
        "id": "qmkDfQAF1JPe",
        "outputId": "3bd4b538-efb0-4629-8a49-5bf70ce836e4"
      },
      "outputs": [
        {
          "output_type": "stream",
          "name": "stdout",
          "text": [
            "<class 'pandas.core.frame.DataFrame'>\n",
            "RangeIndex: 4230 entries, 0 to 4229\n",
            "Data columns (total 31 columns):\n",
            " #   Column            Non-Null Count  Dtype         \n",
            "---  ------            --------------  -----         \n",
            " 0   Code              4230 non-null   int64         \n",
            " 1   commande_VIR      4230 non-null   int64         \n",
            " 2   Reference         4230 non-null   object        \n",
            " 3   C.Postal          4230 non-null   object        \n",
            " 4   Ville             4107 non-null   object        \n",
            " 5   Date              4106 non-null   datetime64[ns]\n",
            " 6   Rub               4230 non-null   object        \n",
            " 7   Libelle           4230 non-null   object        \n",
            " 8   CA                4106 non-null   float64       \n",
            " 9   DISTRIBUTION      4112 non-null   float64       \n",
            " 10  APPROCHE          3582 non-null   float64       \n",
            " 11  GASOIL DISTRI     4059 non-null   float64       \n",
            " 12  GASOIL APP        4059 non-null   float64       \n",
            " 13  Agence            4230 non-null   int64         \n",
            " 14  Dir               4133 non-null   object        \n",
            " 15  Volume            4121 non-null   float64       \n",
            " 16  Poids             4122 non-null   float64       \n",
            " 17  saisie            4133 non-null   object        \n",
            " 18  ID_PRODUIT        4219 non-null   float64       \n",
            " 19  CATEGORY          4219 non-null   object        \n",
            " 20  DESIGNATION       4219 non-null   object        \n",
            " 21  CA_presta         4219 non-null   float64       \n",
            " 22  QTY               4219 non-null   float64       \n",
            " 23  TRANSPORT_ACHAT   4219 non-null   float64       \n",
            " 24  POIDS             4219 non-null   float64       \n",
            " 25  NB_COLIS          4219 non-null   float64       \n",
            " 26  TRANSPORTEUR      4219 non-null   object        \n",
            " 27  SUPPLIER          4219 non-null   object        \n",
            " 28  mode de paiement  4219 non-null   object        \n",
            " 29  Total             4230 non-null   float64       \n",
            " 30  Mois              4106 non-null   float64       \n",
            "dtypes: datetime64[ns](1), float64(15), int64(3), object(12)\n",
            "memory usage: 1.0+ MB\n"
          ]
        }
      ],
      "source": [
        "facture_principale_merged.info()"
      ]
    },
    {
      "cell_type": "code",
      "execution_count": null,
      "metadata": {
        "colab": {
          "base_uri": "https://localhost:8080/",
          "height": 774
        },
        "id": "R8NKDGp2vCTK",
        "outputId": "eebf7341-8187-4731-8bc2-7904ac468932"
      },
      "outputs": [
        {
          "output_type": "execute_result",
          "data": {
            "text/plain": [
              "Libelle\n",
              "LIV STANDARD                        2380\n",
              "LIV INSTALLATION                    1118\n",
              "REPRISE POUR DESTRUCTION CANAPE      294\n",
              "LIV ECONOMIQUE                       207\n",
              "FRAIS ADMINISTRATIFS                 107\n",
              "LIV MONTAGE                           28\n",
              "MONTAGE CLASSE B                      22\n",
              "PASSAGE A 4                           20\n",
              "EMPORTE DEPOT                         13\n",
              "ENLEVEMENT DEPOT                      11\n",
              "REPRISE POUR DESTRUCTION MEUBLE       10\n",
              "MONTAGE CLASSE A                       7\n",
              "RETOUCHE TEL                           3\n",
              "STOCKAGE                               2\n",
              "MONTAGE CLASSE C                       2\n",
              "REPRISE ELECTRO DEEE                   1\n",
              "RETOUCHE N°                            1\n",
              "REPRISE POUR DESTRUCTION LITERIE       1\n",
              "LIV DEBALLAGE                          1\n",
              "RETOUR REVERSE                         1\n",
              "REOTUCHE TEL                           1\n",
              "Name: count, dtype: int64"
            ],
            "text/html": [
              "<div>\n",
              "<style scoped>\n",
              "    .dataframe tbody tr th:only-of-type {\n",
              "        vertical-align: middle;\n",
              "    }\n",
              "\n",
              "    .dataframe tbody tr th {\n",
              "        vertical-align: top;\n",
              "    }\n",
              "\n",
              "    .dataframe thead th {\n",
              "        text-align: right;\n",
              "    }\n",
              "</style>\n",
              "<table border=\"1\" class=\"dataframe\">\n",
              "  <thead>\n",
              "    <tr style=\"text-align: right;\">\n",
              "      <th></th>\n",
              "      <th>count</th>\n",
              "    </tr>\n",
              "    <tr>\n",
              "      <th>Libelle</th>\n",
              "      <th></th>\n",
              "    </tr>\n",
              "  </thead>\n",
              "  <tbody>\n",
              "    <tr>\n",
              "      <th>LIV STANDARD</th>\n",
              "      <td>2380</td>\n",
              "    </tr>\n",
              "    <tr>\n",
              "      <th>LIV INSTALLATION</th>\n",
              "      <td>1118</td>\n",
              "    </tr>\n",
              "    <tr>\n",
              "      <th>REPRISE POUR DESTRUCTION CANAPE</th>\n",
              "      <td>294</td>\n",
              "    </tr>\n",
              "    <tr>\n",
              "      <th>LIV ECONOMIQUE</th>\n",
              "      <td>207</td>\n",
              "    </tr>\n",
              "    <tr>\n",
              "      <th>FRAIS ADMINISTRATIFS</th>\n",
              "      <td>107</td>\n",
              "    </tr>\n",
              "    <tr>\n",
              "      <th>LIV MONTAGE</th>\n",
              "      <td>28</td>\n",
              "    </tr>\n",
              "    <tr>\n",
              "      <th>MONTAGE CLASSE B</th>\n",
              "      <td>22</td>\n",
              "    </tr>\n",
              "    <tr>\n",
              "      <th>PASSAGE A 4</th>\n",
              "      <td>20</td>\n",
              "    </tr>\n",
              "    <tr>\n",
              "      <th>EMPORTE DEPOT</th>\n",
              "      <td>13</td>\n",
              "    </tr>\n",
              "    <tr>\n",
              "      <th>ENLEVEMENT DEPOT</th>\n",
              "      <td>11</td>\n",
              "    </tr>\n",
              "    <tr>\n",
              "      <th>REPRISE POUR DESTRUCTION MEUBLE</th>\n",
              "      <td>10</td>\n",
              "    </tr>\n",
              "    <tr>\n",
              "      <th>MONTAGE CLASSE A</th>\n",
              "      <td>7</td>\n",
              "    </tr>\n",
              "    <tr>\n",
              "      <th>RETOUCHE TEL</th>\n",
              "      <td>3</td>\n",
              "    </tr>\n",
              "    <tr>\n",
              "      <th>STOCKAGE</th>\n",
              "      <td>2</td>\n",
              "    </tr>\n",
              "    <tr>\n",
              "      <th>MONTAGE CLASSE C</th>\n",
              "      <td>2</td>\n",
              "    </tr>\n",
              "    <tr>\n",
              "      <th>REPRISE ELECTRO DEEE</th>\n",
              "      <td>1</td>\n",
              "    </tr>\n",
              "    <tr>\n",
              "      <th>RETOUCHE N°</th>\n",
              "      <td>1</td>\n",
              "    </tr>\n",
              "    <tr>\n",
              "      <th>REPRISE POUR DESTRUCTION LITERIE</th>\n",
              "      <td>1</td>\n",
              "    </tr>\n",
              "    <tr>\n",
              "      <th>LIV DEBALLAGE</th>\n",
              "      <td>1</td>\n",
              "    </tr>\n",
              "    <tr>\n",
              "      <th>RETOUR REVERSE</th>\n",
              "      <td>1</td>\n",
              "    </tr>\n",
              "    <tr>\n",
              "      <th>REOTUCHE TEL</th>\n",
              "      <td>1</td>\n",
              "    </tr>\n",
              "  </tbody>\n",
              "</table>\n",
              "</div><br><label><b>dtype:</b> int64</label>"
            ]
          },
          "metadata": {},
          "execution_count": 266
        }
      ],
      "source": [
        "facture_principale_merged['Libelle'].value_counts()"
      ]
    },
    {
      "cell_type": "code",
      "execution_count": null,
      "metadata": {
        "id": "vxNFp1bS4g0M"
      },
      "outputs": [],
      "source": [
        "# Séparer les lignes correspondant et ne correspondant pas aux critères\n",
        "facture_principale_merged_liv = facture_principale_merged[filtre_libelle]"
      ]
    },
    {
      "cell_type": "code",
      "execution_count": null,
      "metadata": {
        "colab": {
          "base_uri": "https://localhost:8080/"
        },
        "id": "6KeCNNMPQPwQ",
        "outputId": "f585f4ac-05bb-4909-acf5-165bba95edcf"
      },
      "outputs": [
        {
          "output_type": "stream",
          "name": "stdout",
          "text": [
            "shape apres retrait des livraisons complementaires: (3747, 31)\n"
          ]
        }
      ],
      "source": [
        "#shape apres retrait des livraison complementaires\n",
        "print(\"shape apres retrait des livraisons complementaires:\", facture_principale_merged_liv.shape)"
      ]
    },
    {
      "cell_type": "code",
      "execution_count": null,
      "metadata": {
        "colab": {
          "base_uri": "https://localhost:8080/"
        },
        "id": "0qBGRjwb4bJj",
        "outputId": "e0b0e384-fbc7-4eb2-c823-96bee41ee126"
      },
      "outputs": [
        {
          "output_type": "execute_result",
          "data": {
            "text/plain": [
              "3742"
            ]
          },
          "metadata": {},
          "execution_count": 269
        }
      ],
      "source": [
        "liste_references_facture_principale_merged_liv = facture_principale_merged_liv['Reference'].unique().tolist()\n",
        "len( liste_references_facture_principale_merged_liv)"
      ]
    },
    {
      "cell_type": "code",
      "execution_count": null,
      "metadata": {
        "colab": {
          "base_uri": "https://localhost:8080/",
          "height": 304
        },
        "id": "ocjajmxL5Y0X",
        "outputId": "dcb13533-16a4-4506-edb0-6de5c14ad7df"
      },
      "outputs": [
        {
          "output_type": "execute_result",
          "data": {
            "text/plain": [
              "Libelle\n",
              "LIV STANDARD        2380\n",
              "LIV INSTALLATION    1118\n",
              "LIV ECONOMIQUE       207\n",
              "LIV MONTAGE           28\n",
              "EMPORTE DEPOT         13\n",
              "LIV DEBALLAGE          1\n",
              "Name: count, dtype: int64"
            ],
            "text/html": [
              "<div>\n",
              "<style scoped>\n",
              "    .dataframe tbody tr th:only-of-type {\n",
              "        vertical-align: middle;\n",
              "    }\n",
              "\n",
              "    .dataframe tbody tr th {\n",
              "        vertical-align: top;\n",
              "    }\n",
              "\n",
              "    .dataframe thead th {\n",
              "        text-align: right;\n",
              "    }\n",
              "</style>\n",
              "<table border=\"1\" class=\"dataframe\">\n",
              "  <thead>\n",
              "    <tr style=\"text-align: right;\">\n",
              "      <th></th>\n",
              "      <th>count</th>\n",
              "    </tr>\n",
              "    <tr>\n",
              "      <th>Libelle</th>\n",
              "      <th></th>\n",
              "    </tr>\n",
              "  </thead>\n",
              "  <tbody>\n",
              "    <tr>\n",
              "      <th>LIV STANDARD</th>\n",
              "      <td>2380</td>\n",
              "    </tr>\n",
              "    <tr>\n",
              "      <th>LIV INSTALLATION</th>\n",
              "      <td>1118</td>\n",
              "    </tr>\n",
              "    <tr>\n",
              "      <th>LIV ECONOMIQUE</th>\n",
              "      <td>207</td>\n",
              "    </tr>\n",
              "    <tr>\n",
              "      <th>LIV MONTAGE</th>\n",
              "      <td>28</td>\n",
              "    </tr>\n",
              "    <tr>\n",
              "      <th>EMPORTE DEPOT</th>\n",
              "      <td>13</td>\n",
              "    </tr>\n",
              "    <tr>\n",
              "      <th>LIV DEBALLAGE</th>\n",
              "      <td>1</td>\n",
              "    </tr>\n",
              "  </tbody>\n",
              "</table>\n",
              "</div><br><label><b>dtype:</b> int64</label>"
            ]
          },
          "metadata": {},
          "execution_count": 270
        }
      ],
      "source": [
        "facture_principale_merged_liv['Libelle'].value_counts()"
      ]
    },
    {
      "cell_type": "code",
      "execution_count": null,
      "metadata": {
        "colab": {
          "base_uri": "https://localhost:8080/",
          "height": 572
        },
        "id": "RUBZTubHSRTK",
        "outputId": "5b8a35d9-ef0a-464f-d7ad-de452daea159"
      },
      "outputs": [
        {
          "output_type": "execute_result",
          "data": {
            "text/plain": [
              "Text(0.5, 1.0, 'Distribution selon type de la prestation')"
            ]
          },
          "metadata": {},
          "execution_count": 271
        },
        {
          "output_type": "display_data",
          "data": {
            "text/plain": [
              "<Figure size 640x480 with 1 Axes>"
            ],
            "image/png": "[encoded data removed]"
          },
          "metadata": {}
        }
      ],
      "source": [
        "plt.bar(facture_principale_merged_liv['Libelle'].value_counts().index, facture_principale_merged_liv['Libelle'].value_counts().values)\n",
        "plt.xticks(rotation=45)\n",
        "values = facture_principale_merged_liv['Libelle'].value_counts().values\n",
        "\n",
        "# Ajouter les valeurs au-dessus des barres\n",
        "for i, value in enumerate(values):\n",
        "    plt.text(i, value + 0.5, str(value), ha='center', va='bottom')\n",
        "\n",
        "# Ajouter les labels des axes\n",
        "plt.xlabel('Libellé')\n",
        "plt.ylabel('Nombre')\n",
        "plt.title('Distribution selon type de la prestation')"
      ]
    },
    {
      "cell_type": "code",
      "execution_count": null,
      "metadata": {
        "colab": {
          "base_uri": "https://localhost:8080/"
        },
        "id": "7s7mCBRp5UUg",
        "outputId": "5cf5caca-6951-4ded-9476-e14fc1464cad"
      },
      "outputs": [
        {
          "output_type": "execute_result",
          "data": {
            "text/plain": [
              "3747"
            ]
          },
          "metadata": {},
          "execution_count": 272
        }
      ],
      "source": [
        "facture_principale_merged_liv['Libelle'].count()"
      ]
    },
    {
      "cell_type": "code",
      "execution_count": null,
      "metadata": {
        "colab": {
          "base_uri": "https://localhost:8080/"
        },
        "id": "KBEcECeri__P",
        "outputId": "ad0590fe-801c-43aa-c3d6-b1ad28272c1a"
      },
      "outputs": [
        {
          "output_type": "execute_result",
          "data": {
            "text/plain": [
              "Index(['Code', 'commande_VIR', 'Reference', 'C.Postal', 'Ville', 'Date', 'Rub',\n",
              "       'Libelle', 'CA', 'DISTRIBUTION', 'APPROCHE', 'GASOIL DISTRI',\n",
              "       'GASOIL APP', 'Agence', 'Dir', 'Volume', 'Poids', 'saisie',\n",
              "       'ID_PRODUIT', 'CATEGORY', 'DESIGNATION', 'CA_presta', 'QTY',\n",
              "       'TRANSPORT_ACHAT', 'POIDS', 'NB_COLIS', 'TRANSPORTEUR', 'SUPPLIER',\n",
              "       'mode de paiement', 'Total', 'Mois'],\n",
              "      dtype='object')"
            ]
          },
          "metadata": {},
          "execution_count": 273
        }
      ],
      "source": [
        "facture_principale_merged_liv.columns"
      ]
    },
    {
      "cell_type": "code",
      "execution_count": null,
      "metadata": {
        "colab": {
          "base_uri": "https://localhost:8080/",
          "height": 372
        },
        "id": "ltDILjBcUxHm",
        "outputId": "4390f02e-a04a-42a2-940e-d0f1e792ea5c"
      },
      "outputs": [
        {
          "output_type": "execute_result",
          "data": {
            "text/plain": [
              "     Code  commande_VIR  Reference C.Postal            Ville       Date Rub  \\\n",
              "12  70907     440067081  SXFNLNCQI       44       ST NAZAIRE 2024-09-06  LS   \n",
              "14  70907     961234424  PLJTVSYMW       95  AUVERS SUR OISE 2024-09-07  LI   \n",
              "16  70907     961264696  BWZUIZWJL       77   CHOISY EN BRIE 2024-09-02  LS   \n",
              "\n",
              "             Libelle   CA  DISTRIBUTION  APPROCHE  GASOIL DISTRI  GASOIL APP  \\\n",
              "12      LIV STANDARD  0.0         84.38    57.876        1.85636    1.273272   \n",
              "14  LIV INSTALLATION  0.0         89.30       NaN        1.96460    0.000000   \n",
              "16      LIV STANDARD  0.0         79.35       NaN        1.74570    0.000000   \n",
              "\n",
              "    Agence  Dir  Volume  Poids  saisie  ID_PRODUIT             CATEGORY  \\\n",
              "12      44  T10   0.000  182.0  SAISIE     17116.0  Canapé d'angle fixe   \n",
              "14      96  T15   1.753   94.0  SAISIE     17364.0    Canapé droit fixe   \n",
              "16      96  T24   3.437  145.0     EDI     16987.0       Canapé d'angle   \n",
              "\n",
              "                                          DESIGNATION  CA_presta  QTY  \\\n",
              "12  Canapé d'angle fixe EVEREST tissu chiné avec p...    2148.34  1.0   \n",
              "14  Canapé droit fixe 3 places LEOPOLD tissu chiné...       0.00  1.0   \n",
              "16  Canapé d'angle fixe modulable ROUSSEAU tissu c...       0.00  1.0   \n",
              "\n",
              "    TRANSPORT_ACHAT  POIDS  NB_COLIS     TRANSPORTEUR  SUPPLIER  \\\n",
              "12         300.7800  334.0       3.0  virtransport_li  BLUE SUN   \n",
              "14         123.3784   94.0       2.0  virtransport_li  BLUE SUN   \n",
              "16         143.6200  145.0       4.0  virtransport_ls  BLUE SUN   \n",
              "\n",
              "             mode de paiement   Total  Mois  \n",
              "12                YounitedPay  145.39   9.0  \n",
              "14  Commande Gagnant Concours   91.26   9.0  \n",
              "16         Commande partielle   81.10   9.0  "
            ],
            "text/html": [
              "\n",
              "  <div id=\"df-f0386926-2318-4b7a-bff1-17f30f50ce78\" class=\"colab-df-container\">\n",
              "    <div>\n",
              "<style scoped>\n",
              "    .dataframe tbody tr th:only-of-type {\n",
              "        vertical-align: middle;\n",
              "    }\n",
              "\n",
              "    .dataframe tbody tr th {\n",
              "        vertical-align: top;\n",
              "    }\n",
              "\n",
              "    .dataframe thead th {\n",
              "        text-align: right;\n",
              "    }\n",
              "</style>\n",
              "<table border=\"1\" class=\"dataframe\">\n",
              "  <thead>\n",
              "    <tr style=\"text-align: right;\">\n",
              "      <th></th>\n",
              "      <th>Code</th>\n",
              "      <th>commande_VIR</th>\n",
              "      <th>Reference</th>\n",
              "      <th>C.Postal</th>\n",
              "      <th>Ville</th>\n",
              "      <th>Date</th>\n",
              "      <th>Rub</th>\n",
              "      <th>Libelle</th>\n",
              "      <th>CA</th>\n",
              "      <th>DISTRIBUTION</th>\n",
              "      <th>APPROCHE</th>\n",
              "      <th>GASOIL DISTRI</th>\n",
              "      <th>GASOIL APP</th>\n",
              "      <th>Agence</th>\n",
              "      <th>Dir</th>\n",
              "      <th>Volume</th>\n",
              "      <th>Poids</th>\n",
              "      <th>saisie</th>\n",
              "      <th>ID_PRODUIT</th>\n",
              "      <th>CATEGORY</th>\n",
              "      <th>DESIGNATION</th>\n",
              "      <th>CA_presta</th>\n",
              "      <th>QTY</th>\n",
              "      <th>TRANSPORT_ACHAT</th>\n",
              "      <th>POIDS</th>\n",
              "      <th>NB_COLIS</th>\n",
              "      <th>TRANSPORTEUR</th>\n",
              "      <th>SUPPLIER</th>\n",
              "      <th>mode de paiement</th>\n",
              "      <th>Total</th>\n",
              "      <th>Mois</th>\n",
              "    </tr>\n",
              "  </thead>\n",
              "  <tbody>\n",
              "    <tr>\n",
              "      <th>12</th>\n",
              "      <td>70907</td>\n",
              "      <td>440067081</td>\n",
              "      <td>SXFNLNCQI</td>\n",
              "      <td>44</td>\n",
              "      <td>ST NAZAIRE</td>\n",
              "      <td>2024-09-06</td>\n",
              "      <td>LS</td>\n",
              "      <td>LIV STANDARD</td>\n",
              "      <td>0.0</td>\n",
              "      <td>84.38</td>\n",
              "      <td>57.876</td>\n",
              "      <td>1.85636</td>\n",
              "      <td>1.273272</td>\n",
              "      <td>44</td>\n",
              "      <td>T10</td>\n",
              "      <td>0.000</td>\n",
              "      <td>182.0</td>\n",
              "      <td>SAISIE</td>\n",
              "      <td>17116.0</td>\n",
              "      <td>Canapé d'angle fixe</td>\n",
              "      <td>Canapé d'angle fixe EVEREST tissu chiné avec p...</td>\n",
              "      <td>2148.34</td>\n",
              "      <td>1.0</td>\n",
              "      <td>300.7800</td>\n",
              "      <td>334.0</td>\n",
              "      <td>3.0</td>\n",
              "      <td>virtransport_li</td>\n",
              "      <td>BLUE SUN</td>\n",
              "      <td>YounitedPay</td>\n",
              "      <td>145.39</td>\n",
              "      <td>9.0</td>\n",
              "    </tr>\n",
              "    <tr>\n",
              "      <th>14</th>\n",
              "      <td>70907</td>\n",
              "      <td>961234424</td>\n",
              "      <td>PLJTVSYMW</td>\n",
              "      <td>95</td>\n",
              "      <td>AUVERS SUR OISE</td>\n",
              "      <td>2024-09-07</td>\n",
              "      <td>LI</td>\n",
              "      <td>LIV INSTALLATION</td>\n",
              "      <td>0.0</td>\n",
              "      <td>89.30</td>\n",
              "      <td>NaN</td>\n",
              "      <td>1.96460</td>\n",
              "      <td>0.000000</td>\n",
              "      <td>96</td>\n",
              "      <td>T15</td>\n",
              "      <td>1.753</td>\n",
              "      <td>94.0</td>\n",
              "      <td>SAISIE</td>\n",
              "      <td>17364.0</td>\n",
              "      <td>Canapé droit fixe</td>\n",
              "      <td>Canapé droit fixe 3 places LEOPOLD tissu chiné...</td>\n",
              "      <td>0.00</td>\n",
              "      <td>1.0</td>\n",
              "      <td>123.3784</td>\n",
              "      <td>94.0</td>\n",
              "      <td>2.0</td>\n",
              "      <td>virtransport_li</td>\n",
              "      <td>BLUE SUN</td>\n",
              "      <td>Commande Gagnant Concours</td>\n",
              "      <td>91.26</td>\n",
              "      <td>9.0</td>\n",
              "    </tr>\n",
              "    <tr>\n",
              "      <th>16</th>\n",
              "      <td>70907</td>\n",
              "      <td>961264696</td>\n",
              "      <td>BWZUIZWJL</td>\n",
              "      <td>77</td>\n",
              "      <td>CHOISY EN BRIE</td>\n",
              "      <td>2024-09-02</td>\n",
              "      <td>LS</td>\n",
              "      <td>LIV STANDARD</td>\n",
              "      <td>0.0</td>\n",
              "      <td>79.35</td>\n",
              "      <td>NaN</td>\n",
              "      <td>1.74570</td>\n",
              "      <td>0.000000</td>\n",
              "      <td>96</td>\n",
              "      <td>T24</td>\n",
              "      <td>3.437</td>\n",
              "      <td>145.0</td>\n",
              "      <td>EDI</td>\n",
              "      <td>16987.0</td>\n",
              "      <td>Canapé d'angle</td>\n",
              "      <td>Canapé d'angle fixe modulable ROUSSEAU tissu c...</td>\n",
              "      <td>0.00</td>\n",
              "      <td>1.0</td>\n",
              "      <td>143.6200</td>\n",
              "      <td>145.0</td>\n",
              "      <td>4.0</td>\n",
              "      <td>virtransport_ls</td>\n",
              "      <td>BLUE SUN</td>\n",
              "      <td>Commande partielle</td>\n",
              "      <td>81.10</td>\n",
              "      <td>9.0</td>\n",
              "    </tr>\n",
              "  </tbody>\n",
              "</table>\n",
              "</div>\n",
              "    <div class=\"colab-df-buttons\">\n",
              "\n",
              "  <div class=\"colab-df-container\">\n",
              "    <button class=\"colab-df-convert\" onclick=\"convertToInteractive('df-f0386926-2318-4b7a-bff1-17f30f50ce78')\"\n",
              "            title=\"Convert this dataframe to an interactive table.\"\n",
              "            style=\"display:none;\">\n",
              "\n",
              "  <svg xmlns=\"http://www.w3.org/2000/svg\" height=\"24px\" viewBox=\"0 -960 960 960\">\n",
              "    <path d=\"M120-120v-720h720v720H120Zm60-500h600v-160H180v160Zm220 220h160v-160H400v160Zm0 220h160v-160H400v160ZM180-400h160v-160H180v160Zm440 0h160v-160H620v160ZM180-180h160v-160H180v160Zm440 0h160v-160H620v160Z\"/>\n",
              "  </svg>\n",
              "    </button>\n",
              "\n",
              "  <style>\n",
              "    .colab-df-container {\n",
              "      display:flex;\n",
              "      gap: 12px;\n",
              "    }\n",
              "\n",
              "    .colab-df-convert {\n",
              "      background-color: #E8F0FE;\n",
              "      border: none;\n",
              "      border-radius: 50%;\n",
              "      cursor: pointer;\n",
              "      display: none;\n",
              "      fill: #1967D2;\n",
              "      height: 32px;\n",
              "      padding: 0 0 0 0;\n",
              "      width: 32px;\n",
              "    }\n",
              "\n",
              "    .colab-df-convert:hover {\n",
              "      background-color: #E2EBFA;\n",
              "      box-shadow: 0px 1px 2px rgba(60, 64, 67, 0.3), 0px 1px 3px 1px rgba(60, 64, 67, 0.15);\n",
              "      fill: #174EA6;\n",
              "    }\n",
              "\n",
              "    .colab-df-buttons div {\n",
              "      margin-bottom: 4px;\n",
              "    }\n",
              "\n",
              "    [theme=dark] .colab-df-convert {\n",
              "      background-color: #3B4455;\n",
              "      fill: #D2E3FC;\n",
              "    }\n",
              "\n",
              "    [theme=dark] .colab-df-convert:hover {\n",
              "      background-color: #434B5C;\n",
              "      box-shadow: 0px 1px 3px 1px rgba(0, 0, 0, 0.15);\n",
              "      filter: drop-shadow(0px 1px 2px rgba(0, 0, 0, 0.3));\n",
              "      fill: #FFFFFF;\n",
              "    }\n",
              "  </style>\n",
              "\n",
              "    <script>\n",
              "      const buttonEl =\n",
              "        document.querySelector('#df-f0386926-2318-4b7a-bff1-17f30f50ce78 button.colab-df-convert');\n",
              "      buttonEl.style.display =\n",
              "        google.colab.kernel.accessAllowed ? 'block' : 'none';\n",
              "\n",
              "      async function convertToInteractive(key) {\n",
              "        const element = document.querySelector('#df-f0386926-2318-4b7a-bff1-17f30f50ce78');\n",
              "        const dataTable =\n",
              "          await google.colab.kernel.invokeFunction('convertToInteractive',\n",
              "                                                    [key], {});\n",
              "        if (!dataTable) return;\n",
              "\n",
              "        const docLinkHtml = 'Like what you see? Visit the ' +\n",
              "          '<a target=\"_blank\" href=https://colab.research.google.com/notebooks/data_table.ipynb>data table notebook</a>'\n",
              "          + ' to learn more about interactive tables.';\n",
              "        element.innerHTML = '';\n",
              "        dataTable['output_type'] = 'display_data';\n",
              "        await google.colab.output.renderOutput(dataTable, element);\n",
              "        const docLink = document.createElement('div');\n",
              "        docLink.innerHTML = docLinkHtml;\n",
              "        element.appendChild(docLink);\n",
              "      }\n",
              "    </script>\n",
              "  </div>\n",
              "\n",
              "\n",
              "<div id=\"df-1564de12-7cf5-4353-b349-f9fe278d7510\">\n",
              "  <button class=\"colab-df-quickchart\" onclick=\"quickchart('df-1564de12-7cf5-4353-b349-f9fe278d7510')\"\n",
              "            title=\"Suggest charts\"\n",
              "            style=\"display:none;\">\n",
              "\n",
              "<svg xmlns=\"http://www.w3.org/2000/svg\" height=\"24px\"viewBox=\"0 0 24 24\"\n",
              "     width=\"24px\">\n",
              "    <g>\n",
              "        <path d=\"M19 3H5c-1.1 0-2 .9-2 2v14c0 1.1.9 2 2 2h14c1.1 0 2-.9 2-2V5c0-1.1-.9-2-2-2zM9 17H7v-7h2v7zm4 0h-2V7h2v10zm4 0h-2v-4h2v4z\"/>\n",
              "    </g>\n",
              "</svg>\n",
              "  </button>\n",
              "\n",
              "<style>\n",
              "  .colab-df-quickchart {\n",
              "      --bg-color: #E8F0FE;\n",
              "      --fill-color: #1967D2;\n",
              "      --hover-bg-color: #E2EBFA;\n",
              "      --hover-fill-color: #174EA6;\n",
              "      --disabled-fill-color: #AAA;\n",
              "      --disabled-bg-color: #DDD;\n",
              "  }\n",
              "\n",
              "  [theme=dark] .colab-df-quickchart {\n",
              "      --bg-color: #3B4455;\n",
              "      --fill-color: #D2E3FC;\n",
              "      --hover-bg-color: #434B5C;\n",
              "      --hover-fill-color: #FFFFFF;\n",
              "      --disabled-bg-color: #3B4455;\n",
              "      --disabled-fill-color: #666;\n",
              "  }\n",
              "\n",
              "  .colab-df-quickchart {\n",
              "    background-color: var(--bg-color);\n",
              "    border: none;\n",
              "    border-radius: 50%;\n",
              "    cursor: pointer;\n",
              "    display: none;\n",
              "    fill: var(--fill-color);\n",
              "    height: 32px;\n",
              "    padding: 0;\n",
              "    width: 32px;\n",
              "  }\n",
              "\n",
              "  .colab-df-quickchart:hover {\n",
              "    background-color: var(--hover-bg-color);\n",
              "    box-shadow: 0 1px 2px rgba(60, 64, 67, 0.3), 0 1px 3px 1px rgba(60, 64, 67, 0.15);\n",
              "    fill: var(--button-hover-fill-color);\n",
              "  }\n",
              "\n",
              "  .colab-df-quickchart-complete:disabled,\n",
              "  .colab-df-quickchart-complete:disabled:hover {\n",
              "    background-color: var(--disabled-bg-color);\n",
              "    fill: var(--disabled-fill-color);\n",
              "    box-shadow: none;\n",
              "  }\n",
              "\n",
              "  .colab-df-spinner {\n",
              "    border: 2px solid var(--fill-color);\n",
              "    border-color: transparent;\n",
              "    border-bottom-color: var(--fill-color);\n",
              "    animation:\n",
              "      spin 1s steps(1) infinite;\n",
              "  }\n",
              "\n",
              "  @keyframes spin {\n",
              "    0% {\n",
              "      border-color: transparent;\n",
              "      border-bottom-color: var(--fill-color);\n",
              "      border-left-color: var(--fill-color);\n",
              "    }\n",
              "    20% {\n",
              "      border-color: transparent;\n",
              "      border-left-color: var(--fill-color);\n",
              "      border-top-color: var(--fill-color);\n",
              "    }\n",
              "    30% {\n",
              "      border-color: transparent;\n",
              "      border-left-color: var(--fill-color);\n",
              "      border-top-color: var(--fill-color);\n",
              "      border-right-color: var(--fill-color);\n",
              "    }\n",
              "    40% {\n",
              "      border-color: transparent;\n",
              "      border-right-color: var(--fill-color);\n",
              "      border-top-color: var(--fill-color);\n",
              "    }\n",
              "    60% {\n",
              "      border-color: transparent;\n",
              "      border-right-color: var(--fill-color);\n",
              "    }\n",
              "    80% {\n",
              "      border-color: transparent;\n",
              "      border-right-color: var(--fill-color);\n",
              "      border-bottom-color: var(--fill-color);\n",
              "    }\n",
              "    90% {\n",
              "      border-color: transparent;\n",
              "      border-bottom-color: var(--fill-color);\n",
              "    }\n",
              "  }\n",
              "</style>\n",
              "\n",
              "  <script>\n",
              "    async function quickchart(key) {\n",
              "      const quickchartButtonEl =\n",
              "        document.querySelector('#' + key + ' button');\n",
              "      quickchartButtonEl.disabled = true;  // To prevent multiple clicks.\n",
              "      quickchartButtonEl.classList.add('colab-df-spinner');\n",
              "      try {\n",
              "        const charts = await google.colab.kernel.invokeFunction(\n",
              "            'suggestCharts', [key], {});\n",
              "      } catch (error) {\n",
              "        console.error('Error during call to suggestCharts:', error);\n",
              "      }\n",
              "      quickchartButtonEl.classList.remove('colab-df-spinner');\n",
              "      quickchartButtonEl.classList.add('colab-df-quickchart-complete');\n",
              "    }\n",
              "    (() => {\n",
              "      let quickchartButtonEl =\n",
              "        document.querySelector('#df-1564de12-7cf5-4353-b349-f9fe278d7510 button');\n",
              "      quickchartButtonEl.style.display =\n",
              "        google.colab.kernel.accessAllowed ? 'block' : 'none';\n",
              "    })();\n",
              "  </script>\n",
              "</div>\n",
              "\n",
              "    </div>\n",
              "  </div>\n"
            ],
            "application/vnd.google.colaboratory.intrinsic+json": {
              "type": "dataframe",
              "variable_name": "facture_principale_merged_liv"
            }
          },
          "metadata": {},
          "execution_count": 274
        }
      ],
      "source": [
        "facture_principale_merged_liv.head(3)"
      ]
    },
    {
      "cell_type": "code",
      "execution_count": null,
      "metadata": {
        "id": "Fur40cdpUpuz"
      },
      "outputs": [],
      "source": [
        "colonnes_ordre = ['Mois', 'Code', 'Date', 'commande_VIR','Rub', 'Libelle',\n",
        "                  'Reference', 'C.Postal', 'Ville',  'CA', 'DISTRIBUTION',\n",
        "       'APPROCHE', 'GASOIL DISTRI', 'GASOIL APP', 'Total', 'Agence', 'Dir',\n",
        "       'Volume', 'Poids',   'ID_PRODUIT', 'CATEGORY',\n",
        "       'DESIGNATION', 'CA_presta', 'QTY', 'TRANSPORT_ACHAT', 'POIDS',\n",
        "       'NB_COLIS', 'TRANSPORTEUR', 'SUPPLIER', 'mode de paiement'\n",
        "]\n",
        "facture_principale_merged_liv = facture_principale_merged_liv[colonnes_ordre]"
      ]
    },
    {
      "cell_type": "code",
      "execution_count": null,
      "metadata": {
        "colab": {
          "base_uri": "https://localhost:8080/",
          "height": 372
        },
        "id": "vSwsDi1_hgCQ",
        "outputId": "109a5838-8806-447f-a51d-059cb3009a4b"
      },
      "outputs": [
        {
          "output_type": "execute_result",
          "data": {
            "text/plain": [
              "    Mois   Code       Date  commande_VIR Rub           Libelle  Reference  \\\n",
              "12   9.0  70907 2024-09-06     440067081  LS      LIV STANDARD  SXFNLNCQI   \n",
              "14   9.0  70907 2024-09-07     961234424  LI  LIV INSTALLATION  PLJTVSYMW   \n",
              "16   9.0  70907 2024-09-02     961264696  LS      LIV STANDARD  BWZUIZWJL   \n",
              "\n",
              "   C.Postal            Ville   CA  DISTRIBUTION  APPROCHE  GASOIL DISTRI  \\\n",
              "12       44       ST NAZAIRE  0.0         84.38    57.876        1.85636   \n",
              "14       95  AUVERS SUR OISE  0.0         89.30       NaN        1.96460   \n",
              "16       77   CHOISY EN BRIE  0.0         79.35       NaN        1.74570   \n",
              "\n",
              "    GASOIL APP   Total  Agence  Dir  Volume  Poids  ID_PRODUIT  \\\n",
              "12    1.273272  145.39      44  T10   0.000  182.0     17116.0   \n",
              "14    0.000000   91.26      96  T15   1.753   94.0     17364.0   \n",
              "16    0.000000   81.10      96  T24   3.437  145.0     16987.0   \n",
              "\n",
              "               CATEGORY                                        DESIGNATION  \\\n",
              "12  Canapé d'angle fixe  Canapé d'angle fixe EVEREST tissu chiné avec p...   \n",
              "14    Canapé droit fixe  Canapé droit fixe 3 places LEOPOLD tissu chiné...   \n",
              "16       Canapé d'angle  Canapé d'angle fixe modulable ROUSSEAU tissu c...   \n",
              "\n",
              "    CA_presta  QTY  TRANSPORT_ACHAT  POIDS  NB_COLIS     TRANSPORTEUR  \\\n",
              "12    2148.34  1.0         300.7800  334.0       3.0  virtransport_li   \n",
              "14       0.00  1.0         123.3784   94.0       2.0  virtransport_li   \n",
              "16       0.00  1.0         143.6200  145.0       4.0  virtransport_ls   \n",
              "\n",
              "    SUPPLIER           mode de paiement  \n",
              "12  BLUE SUN                YounitedPay  \n",
              "14  BLUE SUN  Commande Gagnant Concours  \n",
              "16  BLUE SUN         Commande partielle  "
            ],
            "text/html": [
              "\n",
              "  <div id=\"df-065b58ff-05de-4896-817a-2ddf2441cc34\" class=\"colab-df-container\">\n",
              "    <div>\n",
              "<style scoped>\n",
              "    .dataframe tbody tr th:only-of-type {\n",
              "        vertical-align: middle;\n",
              "    }\n",
              "\n",
              "    .dataframe tbody tr th {\n",
              "        vertical-align: top;\n",
              "    }\n",
              "\n",
              "    .dataframe thead th {\n",
              "        text-align: right;\n",
              "    }\n",
              "</style>\n",
              "<table border=\"1\" class=\"dataframe\">\n",
              "  <thead>\n",
              "    <tr style=\"text-align: right;\">\n",
              "      <th></th>\n",
              "      <th>Mois</th>\n",
              "      <th>Code</th>\n",
              "      <th>Date</th>\n",
              "      <th>commande_VIR</th>\n",
              "      <th>Rub</th>\n",
              "      <th>Libelle</th>\n",
              "      <th>Reference</th>\n",
              "      <th>C.Postal</th>\n",
              "      <th>Ville</th>\n",
              "      <th>CA</th>\n",
              "      <th>DISTRIBUTION</th>\n",
              "      <th>APPROCHE</th>\n",
              "      <th>GASOIL DISTRI</th>\n",
              "      <th>GASOIL APP</th>\n",
              "      <th>Total</th>\n",
              "      <th>Agence</th>\n",
              "      <th>Dir</th>\n",
              "      <th>Volume</th>\n",
              "      <th>Poids</th>\n",
              "      <th>ID_PRODUIT</th>\n",
              "      <th>CATEGORY</th>\n",
              "      <th>DESIGNATION</th>\n",
              "      <th>CA_presta</th>\n",
              "      <th>QTY</th>\n",
              "      <th>TRANSPORT_ACHAT</th>\n",
              "      <th>POIDS</th>\n",
              "      <th>NB_COLIS</th>\n",
              "      <th>TRANSPORTEUR</th>\n",
              "      <th>SUPPLIER</th>\n",
              "      <th>mode de paiement</th>\n",
              "    </tr>\n",
              "  </thead>\n",
              "  <tbody>\n",
              "    <tr>\n",
              "      <th>12</th>\n",
              "      <td>9.0</td>\n",
              "      <td>70907</td>\n",
              "      <td>2024-09-06</td>\n",
              "      <td>440067081</td>\n",
              "      <td>LS</td>\n",
              "      <td>LIV STANDARD</td>\n",
              "      <td>SXFNLNCQI</td>\n",
              "      <td>44</td>\n",
              "      <td>ST NAZAIRE</td>\n",
              "      <td>0.0</td>\n",
              "      <td>84.38</td>\n",
              "      <td>57.876</td>\n",
              "      <td>1.85636</td>\n",
              "      <td>1.273272</td>\n",
              "      <td>145.39</td>\n",
              "      <td>44</td>\n",
              "      <td>T10</td>\n",
              "      <td>0.000</td>\n",
              "      <td>182.0</td>\n",
              "      <td>17116.0</td>\n",
              "      <td>Canapé d'angle fixe</td>\n",
              "      <td>Canapé d'angle fixe EVEREST tissu chiné avec p...</td>\n",
              "      <td>2148.34</td>\n",
              "      <td>1.0</td>\n",
              "      <td>300.7800</td>\n",
              "      <td>334.0</td>\n",
              "      <td>3.0</td>\n",
              "      <td>virtransport_li</td>\n",
              "      <td>BLUE SUN</td>\n",
              "      <td>YounitedPay</td>\n",
              "    </tr>\n",
              "    <tr>\n",
              "      <th>14</th>\n",
              "      <td>9.0</td>\n",
              "      <td>70907</td>\n",
              "      <td>2024-09-07</td>\n",
              "      <td>961234424</td>\n",
              "      <td>LI</td>\n",
              "      <td>LIV INSTALLATION</td>\n",
              "      <td>PLJTVSYMW</td>\n",
              "      <td>95</td>\n",
              "      <td>AUVERS SUR OISE</td>\n",
              "      <td>0.0</td>\n",
              "      <td>89.30</td>\n",
              "      <td>NaN</td>\n",
              "      <td>1.96460</td>\n",
              "      <td>0.000000</td>\n",
              "      <td>91.26</td>\n",
              "      <td>96</td>\n",
              "      <td>T15</td>\n",
              "      <td>1.753</td>\n",
              "      <td>94.0</td>\n",
              "      <td>17364.0</td>\n",
              "      <td>Canapé droit fixe</td>\n",
              "      <td>Canapé droit fixe 3 places LEOPOLD tissu chiné...</td>\n",
              "      <td>0.00</td>\n",
              "      <td>1.0</td>\n",
              "      <td>123.3784</td>\n",
              "      <td>94.0</td>\n",
              "      <td>2.0</td>\n",
              "      <td>virtransport_li</td>\n",
              "      <td>BLUE SUN</td>\n",
              "      <td>Commande Gagnant Concours</td>\n",
              "    </tr>\n",
              "    <tr>\n",
              "      <th>16</th>\n",
              "      <td>9.0</td>\n",
              "      <td>70907</td>\n",
              "      <td>2024-09-02</td>\n",
              "      <td>961264696</td>\n",
              "      <td>LS</td>\n",
              "      <td>LIV STANDARD</td>\n",
              "      <td>BWZUIZWJL</td>\n",
              "      <td>77</td>\n",
              "      <td>CHOISY EN BRIE</td>\n",
              "      <td>0.0</td>\n",
              "      <td>79.35</td>\n",
              "      <td>NaN</td>\n",
              "      <td>1.74570</td>\n",
              "      <td>0.000000</td>\n",
              "      <td>81.10</td>\n",
              "      <td>96</td>\n",
              "      <td>T24</td>\n",
              "      <td>3.437</td>\n",
              "      <td>145.0</td>\n",
              "      <td>16987.0</td>\n",
              "      <td>Canapé d'angle</td>\n",
              "      <td>Canapé d'angle fixe modulable ROUSSEAU tissu c...</td>\n",
              "      <td>0.00</td>\n",
              "      <td>1.0</td>\n",
              "      <td>143.6200</td>\n",
              "      <td>145.0</td>\n",
              "      <td>4.0</td>\n",
              "      <td>virtransport_ls</td>\n",
              "      <td>BLUE SUN</td>\n",
              "      <td>Commande partielle</td>\n",
              "    </tr>\n",
              "  </tbody>\n",
              "</table>\n",
              "</div>\n",
              "    <div class=\"colab-df-buttons\">\n",
              "\n",
              "  <div class=\"colab-df-container\">\n",
              "    <button class=\"colab-df-convert\" onclick=\"convertToInteractive('df-065b58ff-05de-4896-817a-2ddf2441cc34')\"\n",
              "            title=\"Convert this dataframe to an interactive table.\"\n",
              "            style=\"display:none;\">\n",
              "\n",
              "  <svg xmlns=\"http://www.w3.org/2000/svg\" height=\"24px\" viewBox=\"0 -960 960 960\">\n",
              "    <path d=\"M120-120v-720h720v720H120Zm60-500h600v-160H180v160Zm220 220h160v-160H400v160Zm0 220h160v-160H400v160ZM180-400h160v-160H180v160Zm440 0h160v-160H620v160ZM180-180h160v-160H180v160Zm440 0h160v-160H620v160Z\"/>\n",
              "  </svg>\n",
              "    </button>\n",
              "\n",
              "  <style>\n",
              "    .colab-df-container {\n",
              "      display:flex;\n",
              "      gap: 12px;\n",
              "    }\n",
              "\n",
              "    .colab-df-convert {\n",
              "      background-color: #E8F0FE;\n",
              "      border: none;\n",
              "      border-radius: 50%;\n",
              "      cursor: pointer;\n",
              "      display: none;\n",
              "      fill: #1967D2;\n",
              "      height: 32px;\n",
              "      padding: 0 0 0 0;\n",
              "      width: 32px;\n",
              "    }\n",
              "\n",
              "    .colab-df-convert:hover {\n",
              "      background-color: #E2EBFA;\n",
              "      box-shadow: 0px 1px 2px rgba(60, 64, 67, 0.3), 0px 1px 3px 1px rgba(60, 64, 67, 0.15);\n",
              "      fill: #174EA6;\n",
              "    }\n",
              "\n",
              "    .colab-df-buttons div {\n",
              "      margin-bottom: 4px;\n",
              "    }\n",
              "\n",
              "    [theme=dark] .colab-df-convert {\n",
              "      background-color: #3B4455;\n",
              "      fill: #D2E3FC;\n",
              "    }\n",
              "\n",
              "    [theme=dark] .colab-df-convert:hover {\n",
              "      background-color: #434B5C;\n",
              "      box-shadow: 0px 1px 3px 1px rgba(0, 0, 0, 0.15);\n",
              "      filter: drop-shadow(0px 1px 2px rgba(0, 0, 0, 0.3));\n",
              "      fill: #FFFFFF;\n",
              "    }\n",
              "  </style>\n",
              "\n",
              "    <script>\n",
              "      const buttonEl =\n",
              "        document.querySelector('#df-065b58ff-05de-4896-817a-2ddf2441cc34 button.colab-df-convert');\n",
              "      buttonEl.style.display =\n",
              "        google.colab.kernel.accessAllowed ? 'block' : 'none';\n",
              "\n",
              "      async function convertToInteractive(key) {\n",
              "        const element = document.querySelector('#df-065b58ff-05de-4896-817a-2ddf2441cc34');\n",
              "        const dataTable =\n",
              "          await google.colab.kernel.invokeFunction('convertToInteractive',\n",
              "                                                    [key], {});\n",
              "        if (!dataTable) return;\n",
              "\n",
              "        const docLinkHtml = 'Like what you see? Visit the ' +\n",
              "          '<a target=\"_blank\" href=https://colab.research.google.com/notebooks/data_table.ipynb>data table notebook</a>'\n",
              "          + ' to learn more about interactive tables.';\n",
              "        element.innerHTML = '';\n",
              "        dataTable['output_type'] = 'display_data';\n",
              "        await google.colab.output.renderOutput(dataTable, element);\n",
              "        const docLink = document.createElement('div');\n",
              "        docLink.innerHTML = docLinkHtml;\n",
              "        element.appendChild(docLink);\n",
              "      }\n",
              "    </script>\n",
              "  </div>\n",
              "\n",
              "\n",
              "<div id=\"df-0bca8bb3-e648-4806-8b84-3359111a829b\">\n",
              "  <button class=\"colab-df-quickchart\" onclick=\"quickchart('df-0bca8bb3-e648-4806-8b84-3359111a829b')\"\n",
              "            title=\"Suggest charts\"\n",
              "            style=\"display:none;\">\n",
              "\n",
              "<svg xmlns=\"http://www.w3.org/2000/svg\" height=\"24px\"viewBox=\"0 0 24 24\"\n",
              "     width=\"24px\">\n",
              "    <g>\n",
              "        <path d=\"M19 3H5c-1.1 0-2 .9-2 2v14c0 1.1.9 2 2 2h14c1.1 0 2-.9 2-2V5c0-1.1-.9-2-2-2zM9 17H7v-7h2v7zm4 0h-2V7h2v10zm4 0h-2v-4h2v4z\"/>\n",
              "    </g>\n",
              "</svg>\n",
              "  </button>\n",
              "\n",
              "<style>\n",
              "  .colab-df-quickchart {\n",
              "      --bg-color: #E8F0FE;\n",
              "      --fill-color: #1967D2;\n",
              "      --hover-bg-color: #E2EBFA;\n",
              "      --hover-fill-color: #174EA6;\n",
              "      --disabled-fill-color: #AAA;\n",
              "      --disabled-bg-color: #DDD;\n",
              "  }\n",
              "\n",
              "  [theme=dark] .colab-df-quickchart {\n",
              "      --bg-color: #3B4455;\n",
              "      --fill-color: #D2E3FC;\n",
              "      --hover-bg-color: #434B5C;\n",
              "      --hover-fill-color: #FFFFFF;\n",
              "      --disabled-bg-color: #3B4455;\n",
              "      --disabled-fill-color: #666;\n",
              "  }\n",
              "\n",
              "  .colab-df-quickchart {\n",
              "    background-color: var(--bg-color);\n",
              "    border: none;\n",
              "    border-radius: 50%;\n",
              "    cursor: pointer;\n",
              "    display: none;\n",
              "    fill: var(--fill-color);\n",
              "    height: 32px;\n",
              "    padding: 0;\n",
              "    width: 32px;\n",
              "  }\n",
              "\n",
              "  .colab-df-quickchart:hover {\n",
              "    background-color: var(--hover-bg-color);\n",
              "    box-shadow: 0 1px 2px rgba(60, 64, 67, 0.3), 0 1px 3px 1px rgba(60, 64, 67, 0.15);\n",
              "    fill: var(--button-hover-fill-color);\n",
              "  }\n",
              "\n",
              "  .colab-df-quickchart-complete:disabled,\n",
              "  .colab-df-quickchart-complete:disabled:hover {\n",
              "    background-color: var(--disabled-bg-color);\n",
              "    fill: var(--disabled-fill-color);\n",
              "    box-shadow: none;\n",
              "  }\n",
              "\n",
              "  .colab-df-spinner {\n",
              "    border: 2px solid var(--fill-color);\n",
              "    border-color: transparent;\n",
              "    border-bottom-color: var(--fill-color);\n",
              "    animation:\n",
              "      spin 1s steps(1) infinite;\n",
              "  }\n",
              "\n",
              "  @keyframes spin {\n",
              "    0% {\n",
              "      border-color: transparent;\n",
              "      border-bottom-color: var(--fill-color);\n",
              "      border-left-color: var(--fill-color);\n",
              "    }\n",
              "    20% {\n",
              "      border-color: transparent;\n",
              "      border-left-color: var(--fill-color);\n",
              "      border-top-color: var(--fill-color);\n",
              "    }\n",
              "    30% {\n",
              "      border-color: transparent;\n",
              "      border-left-color: var(--fill-color);\n",
              "      border-top-color: var(--fill-color);\n",
              "      border-right-color: var(--fill-color);\n",
              "    }\n",
              "    40% {\n",
              "      border-color: transparent;\n",
              "      border-right-color: var(--fill-color);\n",
              "      border-top-color: var(--fill-color);\n",
              "    }\n",
              "    60% {\n",
              "      border-color: transparent;\n",
              "      border-right-color: var(--fill-color);\n",
              "    }\n",
              "    80% {\n",
              "      border-color: transparent;\n",
              "      border-right-color: var(--fill-color);\n",
              "      border-bottom-color: var(--fill-color);\n",
              "    }\n",
              "    90% {\n",
              "      border-color: transparent;\n",
              "      border-bottom-color: var(--fill-color);\n",
              "    }\n",
              "  }\n",
              "</style>\n",
              "\n",
              "  <script>\n",
              "    async function quickchart(key) {\n",
              "      const quickchartButtonEl =\n",
              "        document.querySelector('#' + key + ' button');\n",
              "      quickchartButtonEl.disabled = true;  // To prevent multiple clicks.\n",
              "      quickchartButtonEl.classList.add('colab-df-spinner');\n",
              "      try {\n",
              "        const charts = await google.colab.kernel.invokeFunction(\n",
              "            'suggestCharts', [key], {});\n",
              "      } catch (error) {\n",
              "        console.error('Error during call to suggestCharts:', error);\n",
              "      }\n",
              "      quickchartButtonEl.classList.remove('colab-df-spinner');\n",
              "      quickchartButtonEl.classList.add('colab-df-quickchart-complete');\n",
              "    }\n",
              "    (() => {\n",
              "      let quickchartButtonEl =\n",
              "        document.querySelector('#df-0bca8bb3-e648-4806-8b84-3359111a829b button');\n",
              "      quickchartButtonEl.style.display =\n",
              "        google.colab.kernel.accessAllowed ? 'block' : 'none';\n",
              "    })();\n",
              "  </script>\n",
              "</div>\n",
              "\n",
              "    </div>\n",
              "  </div>\n"
            ],
            "application/vnd.google.colaboratory.intrinsic+json": {
              "type": "dataframe",
              "variable_name": "facture_principale_merged_liv"
            }
          },
          "metadata": {},
          "execution_count": 276
        }
      ],
      "source": [
        "facture_principale_merged_liv.head(3)"
      ]
    },
    {
      "cell_type": "code",
      "execution_count": null,
      "metadata": {
        "colab": {
          "base_uri": "https://localhost:8080/"
        },
        "id": "Sx9mfP2dnDzd",
        "outputId": "ae9ad4cd-a27a-4d74-8b0b-4c09b9f08f6c"
      },
      "outputs": [
        {
          "output_type": "stream",
          "name": "stdout",
          "text": [
            "Monthly data for Principal has been saved.\n"
          ]
        }
      ],
      "source": [
        "# Step 1: Create or update the monthly file with Principal sheet\n",
        "if os.path.exists(monthly_file_path):\n",
        "    with pd.ExcelWriter(monthly_file_path, engine='openpyxl', mode='a') as writer:\n",
        "        # Append monthly data to 'Principal' sheet\n",
        "        facture_principale_merged_liv.to_excel(writer, sheet_name='Principal', index=False)\n",
        "else:\n",
        "    # Create the file and add the Principal sheet with the data\n",
        "    with pd.ExcelWriter(monthly_file_path, engine='openpyxl', mode='w') as writer:\n",
        "        facture_principale_merged_liv.to_excel(writer, sheet_name='Principal', index=False)\n",
        "\n",
        "print(\"Monthly data for Principal has been saved.\")\n"
      ]
    },
    {
      "cell_type": "code",
      "execution_count": null,
      "metadata": {
        "colab": {
          "base_uri": "https://localhost:8080/"
        },
        "id": "ODaXBwg9ehPW",
        "outputId": "18e2c72b-f4d4-44f8-e514-2eee2cd5001e"
      },
      "outputs": [
        {
          "output_type": "stream",
          "name": "stdout",
          "text": [
            "Annual data for Principal has been updated.\n"
          ]
        }
      ],
      "source": [
        "# Step 1: Check if the annual file exists\n",
        "if not os.path.exists(annual_file_path):\n",
        "    # Create a new Excel file with the 'Principal' sheet\n",
        "    with pd.ExcelWriter(annual_file_path, engine='openpyxl', mode='w') as writer:\n",
        "        facture_principale_merged_liv.to_excel(writer, sheet_name='Principal', index=False)\n",
        "    print(f\"Annual file created at: {annual_file_path}\")\n",
        "\n",
        "else:\n",
        "    # If the file exists, read the existing data from the 'Principal' sheet\n",
        "    try:\n",
        "        existing_annual_data = pd.read_excel(annual_file_path, sheet_name='Principal')\n",
        "        # Concatenate the existing data with the new data\n",
        "        updated_annual_data = pd.concat([existing_annual_data, facture_principale_merged_liv], ignore_index=True)\n",
        "\n",
        "    except ValueError as e:\n",
        "        # Handle case where the 'Principal' sheet does not exist\n",
        "        if 'Worksheet named' in str(e):\n",
        "            print(\"Worksheet 'Principal' not found. Creating a new one.\")\n",
        "            updated_annual_data = facture_principale_merged_liv\n",
        "        else:\n",
        "            raise  # Raise any other exceptions\n",
        "\n",
        "    # Save the updated data back to the annual file\n",
        "    with pd.ExcelWriter(annual_file_path, engine='openpyxl', mode='a', if_sheet_exists='replace') as writer:\n",
        "        updated_annual_data.to_excel(writer, sheet_name='Principal', index=False)\n",
        "\n",
        "    print(\"Annual data for Principal has been updated.\")"
      ]
    },
    {
      "cell_type": "markdown",
      "metadata": {
        "id": "3N5igdOB4hsw"
      },
      "source": [
        "# Factures complementaires\n",
        "\n",
        "\n",
        "1.   Fichier facture complementaire envoyé par VIR\n",
        "2.   Filtre sur les mouvements considérés complementaires mais dans le fichier facture principale\n",
        "\n"
      ]
    },
    {
      "cell_type": "markdown",
      "metadata": {
        "id": "WPIgME-Z_Tkl"
      },
      "source": [
        "## Facture complémentaire envoyée par VIR\n"
      ]
    },
    {
      "cell_type": "code",
      "execution_count": null,
      "metadata": {
        "colab": {
          "base_uri": "https://localhost:8080/",
          "height": 288
        },
        "id": "fweH-fCJ_v9A",
        "outputId": "5458870d-83b6-4605-8c80-cc042117a7d7"
      },
      "outputs": [
        {
          "output_type": "execute_result",
          "data": {
            "text/plain": [
              "     Ag                Date              Code                 Commentaires  \\\n",
              "0  96.0 2024-09-07 08:45:29  ANNULE AVANT LIV          574144 ( Manuelle )   \n",
              "1  96.0 2024-09-22 09:56:19        CLIENT ABS  NON LIVRE CAR CLIENT ABSENT   \n",
              "\n",
              "           Cde  Reference Réf.2   Payeur  Enseigne              Destinataire  \\\n",
              "0  961266905.0  KVRKHTSUO   NaN  70907.0   70907.0  VIR BY JP 96 CELTON HUGO   \n",
              "1  996917326.0  DXZAGRZVH   NaN  70907.0   70907.0                NZIE YVANA   \n",
              "\n",
              "                  Adresse C.Postal         Ville  ColAno  Rub  Poids     CA  \\\n",
              "0  6 BOULEVARD OLOF PALME       77  EMERAINVILLE     0.0   ED   28.0    NaN   \n",
              "1          24 RUE TLEMCEN       75         PARIS     0.0  RPC    1.0  39.32   \n",
              "\n",
              "   APP ALLER  APP RETOUR  GASOIL CA  GASOIL APP ALLER  GASOIL APP RETOUR  \\\n",
              "0        NaN      18.312    0.00000               0.0           0.402864   \n",
              "1        NaN         NaN    0.86504               0.0           0.000000   \n",
              "\n",
              "   ID_PRODUIT                    CATEGORY  \\\n",
              "0     16317.0             Fauteuil & pouf   \n",
              "1     10205.0  Canapé d'angle convertible   \n",
              "\n",
              "                                         DESIGNATION  CA_presta  QTY  \\\n",
              "0                 Pouf ARSENE - Couleur : Gris clair        0.0  1.0   \n",
              "1  Canapé d'angle L convertible SWEDEN - Couleur ...        0.0  1.0   \n",
              "\n",
              "   TRANSPORT_ACHAT  POIDS  NB_COLIS       TRANSPORTEUR  SUPPLIER  \\\n",
              "0          24.4100   28.0       1.0    virtransport_ed  BLUE SUN   \n",
              "1         113.3939  111.0       2.0  virtransport_ls_r  BLUE SUN   \n",
              "\n",
              "              mode de paiement  \n",
              "0           Commande partielle  \n",
              "1  B2B_SHOWROOMPRIVE_06_129932  "
            ],
            "text/html": [
              "\n",
              "  <div id=\"df-aa0b0f15-8c8e-43b5-9e5b-84f229c5c60f\" class=\"colab-df-container\">\n",
              "    <div>\n",
              "<style scoped>\n",
              "    .dataframe tbody tr th:only-of-type {\n",
              "        vertical-align: middle;\n",
              "    }\n",
              "\n",
              "    .dataframe tbody tr th {\n",
              "        vertical-align: top;\n",
              "    }\n",
              "\n",
              "    .dataframe thead th {\n",
              "        text-align: right;\n",
              "    }\n",
              "</style>\n",
              "<table border=\"1\" class=\"dataframe\">\n",
              "  <thead>\n",
              "    <tr style=\"text-align: right;\">\n",
              "      <th></th>\n",
              "      <th>Ag</th>\n",
              "      <th>Date</th>\n",
              "      <th>Code</th>\n",
              "      <th>Commentaires</th>\n",
              "      <th>Cde</th>\n",
              "      <th>Reference</th>\n",
              "      <th>Réf.2</th>\n",
              "      <th>Payeur</th>\n",
              "      <th>Enseigne</th>\n",
              "      <th>Destinataire</th>\n",
              "      <th>Adresse</th>\n",
              "      <th>C.Postal</th>\n",
              "      <th>Ville</th>\n",
              "      <th>ColAno</th>\n",
              "      <th>Rub</th>\n",
              "      <th>Poids</th>\n",
              "      <th>CA</th>\n",
              "      <th>APP ALLER</th>\n",
              "      <th>APP RETOUR</th>\n",
              "      <th>GASOIL CA</th>\n",
              "      <th>GASOIL APP ALLER</th>\n",
              "      <th>GASOIL APP RETOUR</th>\n",
              "      <th>ID_PRODUIT</th>\n",
              "      <th>CATEGORY</th>\n",
              "      <th>DESIGNATION</th>\n",
              "      <th>CA_presta</th>\n",
              "      <th>QTY</th>\n",
              "      <th>TRANSPORT_ACHAT</th>\n",
              "      <th>POIDS</th>\n",
              "      <th>NB_COLIS</th>\n",
              "      <th>TRANSPORTEUR</th>\n",
              "      <th>SUPPLIER</th>\n",
              "      <th>mode de paiement</th>\n",
              "    </tr>\n",
              "  </thead>\n",
              "  <tbody>\n",
              "    <tr>\n",
              "      <th>0</th>\n",
              "      <td>96.0</td>\n",
              "      <td>2024-09-07 08:45:29</td>\n",
              "      <td>ANNULE AVANT LIV</td>\n",
              "      <td>574144 ( Manuelle )</td>\n",
              "      <td>961266905.0</td>\n",
              "      <td>KVRKHTSUO</td>\n",
              "      <td>NaN</td>\n",
              "      <td>70907.0</td>\n",
              "      <td>70907.0</td>\n",
              "      <td>VIR BY JP 96 CELTON HUGO</td>\n",
              "      <td>6 BOULEVARD OLOF PALME</td>\n",
              "      <td>77</td>\n",
              "      <td>EMERAINVILLE</td>\n",
              "      <td>0.0</td>\n",
              "      <td>ED</td>\n",
              "      <td>28.0</td>\n",
              "      <td>NaN</td>\n",
              "      <td>NaN</td>\n",
              "      <td>18.312</td>\n",
              "      <td>0.00000</td>\n",
              "      <td>0.0</td>\n",
              "      <td>0.402864</td>\n",
              "      <td>16317.0</td>\n",
              "      <td>Fauteuil &amp; pouf</td>\n",
              "      <td>Pouf ARSENE - Couleur : Gris clair</td>\n",
              "      <td>0.0</td>\n",
              "      <td>1.0</td>\n",
              "      <td>24.4100</td>\n",
              "      <td>28.0</td>\n",
              "      <td>1.0</td>\n",
              "      <td>virtransport_ed</td>\n",
              "      <td>BLUE SUN</td>\n",
              "      <td>Commande partielle</td>\n",
              "    </tr>\n",
              "    <tr>\n",
              "      <th>1</th>\n",
              "      <td>96.0</td>\n",
              "      <td>2024-09-22 09:56:19</td>\n",
              "      <td>CLIENT ABS</td>\n",
              "      <td>NON LIVRE CAR CLIENT ABSENT</td>\n",
              "      <td>996917326.0</td>\n",
              "      <td>DXZAGRZVH</td>\n",
              "      <td>NaN</td>\n",
              "      <td>70907.0</td>\n",
              "      <td>70907.0</td>\n",
              "      <td>NZIE YVANA</td>\n",
              "      <td>24 RUE TLEMCEN</td>\n",
              "      <td>75</td>\n",
              "      <td>PARIS</td>\n",
              "      <td>0.0</td>\n",
              "      <td>RPC</td>\n",
              "      <td>1.0</td>\n",
              "      <td>39.32</td>\n",
              "      <td>NaN</td>\n",
              "      <td>NaN</td>\n",
              "      <td>0.86504</td>\n",
              "      <td>0.0</td>\n",
              "      <td>0.000000</td>\n",
              "      <td>10205.0</td>\n",
              "      <td>Canapé d'angle convertible</td>\n",
              "      <td>Canapé d'angle L convertible SWEDEN - Couleur ...</td>\n",
              "      <td>0.0</td>\n",
              "      <td>1.0</td>\n",
              "      <td>113.3939</td>\n",
              "      <td>111.0</td>\n",
              "      <td>2.0</td>\n",
              "      <td>virtransport_ls_r</td>\n",
              "      <td>BLUE SUN</td>\n",
              "      <td>B2B_SHOWROOMPRIVE_06_129932</td>\n",
              "    </tr>\n",
              "  </tbody>\n",
              "</table>\n",
              "</div>\n",
              "    <div class=\"colab-df-buttons\">\n",
              "\n",
              "  <div class=\"colab-df-container\">\n",
              "    <button class=\"colab-df-convert\" onclick=\"convertToInteractive('df-aa0b0f15-8c8e-43b5-9e5b-84f229c5c60f')\"\n",
              "            title=\"Convert this dataframe to an interactive table.\"\n",
              "            style=\"display:none;\">\n",
              "\n",
              "  <svg xmlns=\"http://www.w3.org/2000/svg\" height=\"24px\" viewBox=\"0 -960 960 960\">\n",
              "    <path d=\"M120-120v-720h720v720H120Zm60-500h600v-160H180v160Zm220 220h160v-160H400v160Zm0 220h160v-160H400v160ZM180-400h160v-160H180v160Zm440 0h160v-160H620v160ZM180-180h160v-160H180v160Zm440 0h160v-160H620v160Z\"/>\n",
              "  </svg>\n",
              "    </button>\n",
              "\n",
              "  <style>\n",
              "    .colab-df-container {\n",
              "      display:flex;\n",
              "      gap: 12px;\n",
              "    }\n",
              "\n",
              "    .colab-df-convert {\n",
              "      background-color: #E8F0FE;\n",
              "      border: none;\n",
              "      border-radius: 50%;\n",
              "      cursor: pointer;\n",
              "      display: none;\n",
              "      fill: #1967D2;\n",
              "      height: 32px;\n",
              "      padding: 0 0 0 0;\n",
              "      width: 32px;\n",
              "    }\n",
              "\n",
              "    .colab-df-convert:hover {\n",
              "      background-color: #E2EBFA;\n",
              "      box-shadow: 0px 1px 2px rgba(60, 64, 67, 0.3), 0px 1px 3px 1px rgba(60, 64, 67, 0.15);\n",
              "      fill: #174EA6;\n",
              "    }\n",
              "\n",
              "    .colab-df-buttons div {\n",
              "      margin-bottom: 4px;\n",
              "    }\n",
              "\n",
              "    [theme=dark] .colab-df-convert {\n",
              "      background-color: #3B4455;\n",
              "      fill: #D2E3FC;\n",
              "    }\n",
              "\n",
              "    [theme=dark] .colab-df-convert:hover {\n",
              "      background-color: #434B5C;\n",
              "      box-shadow: 0px 1px 3px 1px rgba(0, 0, 0, 0.15);\n",
              "      filter: drop-shadow(0px 1px 2px rgba(0, 0, 0, 0.3));\n",
              "      fill: #FFFFFF;\n",
              "    }\n",
              "  </style>\n",
              "\n",
              "    <script>\n",
              "      const buttonEl =\n",
              "        document.querySelector('#df-aa0b0f15-8c8e-43b5-9e5b-84f229c5c60f button.colab-df-convert');\n",
              "      buttonEl.style.display =\n",
              "        google.colab.kernel.accessAllowed ? 'block' : 'none';\n",
              "\n",
              "      async function convertToInteractive(key) {\n",
              "        const element = document.querySelector('#df-aa0b0f15-8c8e-43b5-9e5b-84f229c5c60f');\n",
              "        const dataTable =\n",
              "          await google.colab.kernel.invokeFunction('convertToInteractive',\n",
              "                                                    [key], {});\n",
              "        if (!dataTable) return;\n",
              "\n",
              "        const docLinkHtml = 'Like what you see? Visit the ' +\n",
              "          '<a target=\"_blank\" href=https://colab.research.google.com/notebooks/data_table.ipynb>data table notebook</a>'\n",
              "          + ' to learn more about interactive tables.';\n",
              "        element.innerHTML = '';\n",
              "        dataTable['output_type'] = 'display_data';\n",
              "        await google.colab.output.renderOutput(dataTable, element);\n",
              "        const docLink = document.createElement('div');\n",
              "        docLink.innerHTML = docLinkHtml;\n",
              "        element.appendChild(docLink);\n",
              "      }\n",
              "    </script>\n",
              "  </div>\n",
              "\n",
              "\n",
              "<div id=\"df-106a3da6-d7d9-401f-adc7-9a608f5ba64d\">\n",
              "  <button class=\"colab-df-quickchart\" onclick=\"quickchart('df-106a3da6-d7d9-401f-adc7-9a608f5ba64d')\"\n",
              "            title=\"Suggest charts\"\n",
              "            style=\"display:none;\">\n",
              "\n",
              "<svg xmlns=\"http://www.w3.org/2000/svg\" height=\"24px\"viewBox=\"0 0 24 24\"\n",
              "     width=\"24px\">\n",
              "    <g>\n",
              "        <path d=\"M19 3H5c-1.1 0-2 .9-2 2v14c0 1.1.9 2 2 2h14c1.1 0 2-.9 2-2V5c0-1.1-.9-2-2-2zM9 17H7v-7h2v7zm4 0h-2V7h2v10zm4 0h-2v-4h2v4z\"/>\n",
              "    </g>\n",
              "</svg>\n",
              "  </button>\n",
              "\n",
              "<style>\n",
              "  .colab-df-quickchart {\n",
              "      --bg-color: #E8F0FE;\n",
              "      --fill-color: #1967D2;\n",
              "      --hover-bg-color: #E2EBFA;\n",
              "      --hover-fill-color: #174EA6;\n",
              "      --disabled-fill-color: #AAA;\n",
              "      --disabled-bg-color: #DDD;\n",
              "  }\n",
              "\n",
              "  [theme=dark] .colab-df-quickchart {\n",
              "      --bg-color: #3B4455;\n",
              "      --fill-color: #D2E3FC;\n",
              "      --hover-bg-color: #434B5C;\n",
              "      --hover-fill-color: #FFFFFF;\n",
              "      --disabled-bg-color: #3B4455;\n",
              "      --disabled-fill-color: #666;\n",
              "  }\n",
              "\n",
              "  .colab-df-quickchart {\n",
              "    background-color: var(--bg-color);\n",
              "    border: none;\n",
              "    border-radius: 50%;\n",
              "    cursor: pointer;\n",
              "    display: none;\n",
              "    fill: var(--fill-color);\n",
              "    height: 32px;\n",
              "    padding: 0;\n",
              "    width: 32px;\n",
              "  }\n",
              "\n",
              "  .colab-df-quickchart:hover {\n",
              "    background-color: var(--hover-bg-color);\n",
              "    box-shadow: 0 1px 2px rgba(60, 64, 67, 0.3), 0 1px 3px 1px rgba(60, 64, 67, 0.15);\n",
              "    fill: var(--button-hover-fill-color);\n",
              "  }\n",
              "\n",
              "  .colab-df-quickchart-complete:disabled,\n",
              "  .colab-df-quickchart-complete:disabled:hover {\n",
              "    background-color: var(--disabled-bg-color);\n",
              "    fill: var(--disabled-fill-color);\n",
              "    box-shadow: none;\n",
              "  }\n",
              "\n",
              "  .colab-df-spinner {\n",
              "    border: 2px solid var(--fill-color);\n",
              "    border-color: transparent;\n",
              "    border-bottom-color: var(--fill-color);\n",
              "    animation:\n",
              "      spin 1s steps(1) infinite;\n",
              "  }\n",
              "\n",
              "  @keyframes spin {\n",
              "    0% {\n",
              "      border-color: transparent;\n",
              "      border-bottom-color: var(--fill-color);\n",
              "      border-left-color: var(--fill-color);\n",
              "    }\n",
              "    20% {\n",
              "      border-color: transparent;\n",
              "      border-left-color: var(--fill-color);\n",
              "      border-top-color: var(--fill-color);\n",
              "    }\n",
              "    30% {\n",
              "      border-color: transparent;\n",
              "      border-left-color: var(--fill-color);\n",
              "      border-top-color: var(--fill-color);\n",
              "      border-right-color: var(--fill-color);\n",
              "    }\n",
              "    40% {\n",
              "      border-color: transparent;\n",
              "      border-right-color: var(--fill-color);\n",
              "      border-top-color: var(--fill-color);\n",
              "    }\n",
              "    60% {\n",
              "      border-color: transparent;\n",
              "      border-right-color: var(--fill-color);\n",
              "    }\n",
              "    80% {\n",
              "      border-color: transparent;\n",
              "      border-right-color: var(--fill-color);\n",
              "      border-bottom-color: var(--fill-color);\n",
              "    }\n",
              "    90% {\n",
              "      border-color: transparent;\n",
              "      border-bottom-color: var(--fill-color);\n",
              "    }\n",
              "  }\n",
              "</style>\n",
              "\n",
              "  <script>\n",
              "    async function quickchart(key) {\n",
              "      const quickchartButtonEl =\n",
              "        document.querySelector('#' + key + ' button');\n",
              "      quickchartButtonEl.disabled = true;  // To prevent multiple clicks.\n",
              "      quickchartButtonEl.classList.add('colab-df-spinner');\n",
              "      try {\n",
              "        const charts = await google.colab.kernel.invokeFunction(\n",
              "            'suggestCharts', [key], {});\n",
              "      } catch (error) {\n",
              "        console.error('Error during call to suggestCharts:', error);\n",
              "      }\n",
              "      quickchartButtonEl.classList.remove('colab-df-spinner');\n",
              "      quickchartButtonEl.classList.add('colab-df-quickchart-complete');\n",
              "    }\n",
              "    (() => {\n",
              "      let quickchartButtonEl =\n",
              "        document.querySelector('#df-106a3da6-d7d9-401f-adc7-9a608f5ba64d button');\n",
              "      quickchartButtonEl.style.display =\n",
              "        google.colab.kernel.accessAllowed ? 'block' : 'none';\n",
              "    })();\n",
              "  </script>\n",
              "</div>\n",
              "\n",
              "    </div>\n",
              "  </div>\n"
            ],
            "application/vnd.google.colaboratory.intrinsic+json": {
              "type": "dataframe",
              "variable_name": "facture_complementaire_merged"
            }
          },
          "metadata": {},
          "execution_count": 279
        }
      ],
      "source": [
        "facture_complementaire_merged.head(2)"
      ]
    },
    {
      "cell_type": "code",
      "execution_count": null,
      "metadata": {
        "colab": {
          "base_uri": "https://localhost:8080/"
        },
        "id": "tvCJwx7aqNLb",
        "outputId": "44c3b478-c15c-482e-e7d1-097979b5b35d"
      },
      "outputs": [
        {
          "output_type": "execute_result",
          "data": {
            "text/plain": [
              "Index(['Ag', 'Date', 'Code', 'Commentaires', 'Cde', 'Reference', 'Réf.2',\n",
              "       'Payeur', 'Enseigne', 'Destinataire', 'Adresse', 'C.Postal', 'Ville',\n",
              "       'ColAno', 'Rub', 'Poids', 'CA', 'APP ALLER', 'APP RETOUR', 'GASOIL CA',\n",
              "       'GASOIL APP ALLER', 'GASOIL APP RETOUR', 'ID_PRODUIT', 'CATEGORY',\n",
              "       'DESIGNATION', 'CA_presta', 'QTY', 'TRANSPORT_ACHAT', 'POIDS',\n",
              "       'NB_COLIS', 'TRANSPORTEUR', 'SUPPLIER', 'mode de paiement'],\n",
              "      dtype='object')"
            ]
          },
          "metadata": {},
          "execution_count": 280
        }
      ],
      "source": [
        "facture_complementaire_merged.columns"
      ]
    },
    {
      "cell_type": "code",
      "execution_count": null,
      "metadata": {
        "colab": {
          "base_uri": "https://localhost:8080/"
        },
        "id": "7d62eDnRw7W0",
        "outputId": "03b9ac3b-9b5e-4314-d7e2-76a65688219b"
      },
      "outputs": [
        {
          "output_type": "stream",
          "name": "stdout",
          "text": [
            "                 Date  Mois\n",
            "0 2024-09-07 08:45:29   9.0\n",
            "1 2024-09-22 09:56:19   9.0\n",
            "2 2024-09-30 11:05:19   9.0\n",
            "3 2024-09-24 09:39:17   9.0\n",
            "4 2024-09-17 09:31:24   9.0\n"
          ]
        }
      ],
      "source": [
        "#Étape 1 : Convertir la colonne 'Date' en format datetime\n",
        "facture_complementaire_merged['Date'] = pd.to_datetime(facture_complementaire_merged['Date'], errors='coerce')\n",
        "\n",
        "# Étape 2 : Extraire le mois de la colonne 'Date'\n",
        "facture_complementaire_merged['Mois'] = facture_complementaire_merged['Date'].dt.month\n",
        "# Vérification des résultats\n",
        "print(facture_complementaire_merged[['Date', 'Mois']].head())"
      ]
    },
    {
      "cell_type": "code",
      "execution_count": null,
      "metadata": {
        "id": "ip-n5SCbysBB"
      },
      "outputs": [],
      "source": [
        "facture_complementaire_merged.fillna(0, inplace=True)"
      ]
    },
    {
      "cell_type": "code",
      "execution_count": null,
      "metadata": {
        "colab": {
          "base_uri": "https://localhost:8080/"
        },
        "id": "pra5T_Ovvzl-",
        "outputId": "83e7451b-7c38-4d6e-8553-45d2b9e0629e"
      },
      "outputs": [
        {
          "output_type": "execute_result",
          "data": {
            "text/plain": [
              "Index(['Ag', 'Date', 'Code', 'Commentaires', 'Cde', 'Reference', 'Réf.2',\n",
              "       'Payeur', 'Enseigne', 'Destinataire', 'Adresse', 'C.Postal', 'Ville',\n",
              "       'ColAno', 'Rub', 'Poids', 'CA', 'APP ALLER', 'APP RETOUR', 'GASOIL CA',\n",
              "       'GASOIL APP ALLER', 'GASOIL APP RETOUR', 'ID_PRODUIT', 'CATEGORY',\n",
              "       'DESIGNATION', 'CA_presta', 'QTY', 'TRANSPORT_ACHAT', 'POIDS',\n",
              "       'NB_COLIS', 'TRANSPORTEUR', 'SUPPLIER', 'mode de paiement', 'Mois'],\n",
              "      dtype='object')"
            ]
          },
          "metadata": {},
          "execution_count": 283
        }
      ],
      "source": [
        "facture_complementaire_merged.columns"
      ]
    },
    {
      "cell_type": "markdown",
      "metadata": {
        "id": "EE8dSbKy93pA"
      },
      "source": []
    },
    {
      "cell_type": "code",
      "execution_count": null,
      "metadata": {
        "id": "GfCDdGAaoWrD"
      },
      "outputs": [],
      "source": [
        "facture_complementaire_merged.rename(columns={'Ag': 'Agence', 'Code': 'Commentaire', 'Cde': 'commande_VIR', \"Payeur\": 'Code', 'APP RETOUR ':'APP RETOUR','GASOIL  CA':'GASOIL CA'}, inplace = \"True\" )"
      ]
    },
    {
      "cell_type": "code",
      "execution_count": null,
      "metadata": {
        "id": "i_tSdubcosLY"
      },
      "outputs": [],
      "source": [
        "facture_complementaire_merged['Total'] = (\n",
        "    facture_complementaire_merged['CA'] +\n",
        "    facture_complementaire_merged['APP ALLER'] +\n",
        "    facture_complementaire_merged['APP RETOUR'] +\n",
        "    facture_complementaire_merged['GASOIL CA'] +\n",
        "    facture_complementaire_merged['GASOIL APP ALLER'] +\n",
        "    facture_complementaire_merged['GASOIL APP RETOUR']\n",
        ").round(2)"
      ]
    },
    {
      "cell_type": "code",
      "execution_count": null,
      "metadata": {
        "id": "QSojDkva89gH"
      },
      "outputs": [],
      "source": [
        "colonne_a_supprimer = [\"Réf.2\", \"Destinataire\",\"Enseigne\", \"Adresse\", \"ColAno\", 'Commentaires']\n",
        "facture_complementaire_merged = facture_complementaire_merged.drop(columns=colonne_a_supprimer)"
      ]
    },
    {
      "cell_type": "code",
      "execution_count": null,
      "metadata": {
        "id": "JLnNuFI1rq4f"
      },
      "outputs": [],
      "source": [
        "# Remplissage de la colonne Libelle dans facture_complementaire_merged en fonction de Rub\n",
        "facture_complementaire_merged['Libelle'] = facture_complementaire_merged['Rub'].map(rub_libelle_dict)"
      ]
    },
    {
      "cell_type": "code",
      "execution_count": null,
      "metadata": {
        "colab": {
          "base_uri": "https://localhost:8080/",
          "height": 460
        },
        "id": "8vcd3ZnJsxNL",
        "outputId": "cb46b739-8a70-421a-bdec-19753a1ee201"
      },
      "outputs": [
        {
          "output_type": "execute_result",
          "data": {
            "text/plain": [
              "Libelle\n",
              "LIV STANDARD                       125\n",
              "LIV INSTALLATION                   104\n",
              "RETOUR REVERSE                      33\n",
              "REPRISE POUR DESTRUCTION CANAPE     21\n",
              "PASSAGE A 4                          8\n",
              "LIV ECONOMIQUE                       7\n",
              "MONTAGE CLASSE B                     5\n",
              "LIV MONTAGE                          5\n",
              "EMPORTE DEPOT                        1\n",
              "REPRISE POUR DESTRUCTION MEUBLE      1\n",
              "FRAIS ADMINISTRATIFS                 1\n",
              "Name: count, dtype: int64"
            ],
            "text/html": [
              "<div>\n",
              "<style scoped>\n",
              "    .dataframe tbody tr th:only-of-type {\n",
              "        vertical-align: middle;\n",
              "    }\n",
              "\n",
              "    .dataframe tbody tr th {\n",
              "        vertical-align: top;\n",
              "    }\n",
              "\n",
              "    .dataframe thead th {\n",
              "        text-align: right;\n",
              "    }\n",
              "</style>\n",
              "<table border=\"1\" class=\"dataframe\">\n",
              "  <thead>\n",
              "    <tr style=\"text-align: right;\">\n",
              "      <th></th>\n",
              "      <th>count</th>\n",
              "    </tr>\n",
              "    <tr>\n",
              "      <th>Libelle</th>\n",
              "      <th></th>\n",
              "    </tr>\n",
              "  </thead>\n",
              "  <tbody>\n",
              "    <tr>\n",
              "      <th>LIV STANDARD</th>\n",
              "      <td>125</td>\n",
              "    </tr>\n",
              "    <tr>\n",
              "      <th>LIV INSTALLATION</th>\n",
              "      <td>104</td>\n",
              "    </tr>\n",
              "    <tr>\n",
              "      <th>RETOUR REVERSE</th>\n",
              "      <td>33</td>\n",
              "    </tr>\n",
              "    <tr>\n",
              "      <th>REPRISE POUR DESTRUCTION CANAPE</th>\n",
              "      <td>21</td>\n",
              "    </tr>\n",
              "    <tr>\n",
              "      <th>PASSAGE A 4</th>\n",
              "      <td>8</td>\n",
              "    </tr>\n",
              "    <tr>\n",
              "      <th>LIV ECONOMIQUE</th>\n",
              "      <td>7</td>\n",
              "    </tr>\n",
              "    <tr>\n",
              "      <th>MONTAGE CLASSE B</th>\n",
              "      <td>5</td>\n",
              "    </tr>\n",
              "    <tr>\n",
              "      <th>LIV MONTAGE</th>\n",
              "      <td>5</td>\n",
              "    </tr>\n",
              "    <tr>\n",
              "      <th>EMPORTE DEPOT</th>\n",
              "      <td>1</td>\n",
              "    </tr>\n",
              "    <tr>\n",
              "      <th>REPRISE POUR DESTRUCTION MEUBLE</th>\n",
              "      <td>1</td>\n",
              "    </tr>\n",
              "    <tr>\n",
              "      <th>FRAIS ADMINISTRATIFS</th>\n",
              "      <td>1</td>\n",
              "    </tr>\n",
              "  </tbody>\n",
              "</table>\n",
              "</div><br><label><b>dtype:</b> int64</label>"
            ]
          },
          "metadata": {},
          "execution_count": 288
        }
      ],
      "source": [
        "facture_complementaire_merged['Libelle'].value_counts()"
      ]
    },
    {
      "cell_type": "code",
      "execution_count": null,
      "metadata": {
        "colab": {
          "base_uri": "https://localhost:8080/"
        },
        "id": "iu9zC6dk0hc_",
        "outputId": "058d9d86-9a6b-43ea-88f2-127c86744163"
      },
      "outputs": [
        {
          "output_type": "execute_result",
          "data": {
            "text/plain": [
              "Index(['Agence', 'Date', 'Commentaire', 'commande_VIR', 'Reference', 'Code',\n",
              "       'C.Postal', 'Ville', 'Rub', 'Poids', 'CA', 'APP ALLER', 'APP RETOUR',\n",
              "       'GASOIL CA', 'GASOIL APP ALLER', 'GASOIL APP RETOUR', 'ID_PRODUIT',\n",
              "       'CATEGORY', 'DESIGNATION', 'CA_presta', 'QTY', 'TRANSPORT_ACHAT',\n",
              "       'POIDS', 'NB_COLIS', 'TRANSPORTEUR', 'SUPPLIER', 'mode de paiement',\n",
              "       'Mois', 'Total', 'Libelle'],\n",
              "      dtype='object')"
            ]
          },
          "metadata": {},
          "execution_count": 289
        }
      ],
      "source": [
        "facture_complementaire_merged.columns"
      ]
    },
    {
      "cell_type": "code",
      "execution_count": null,
      "metadata": {
        "id": "PqV5xhgyyw6C"
      },
      "outputs": [],
      "source": [
        "col_order = ['Mois','Date','commande_VIR','Rub','Libelle',   'Reference','C.Postal', 'Ville',  'Poids', 'CA', 'APP ALLER',\n",
        "       'APP RETOUR', 'GASOIL CA', 'GASOIL APP ALLER', 'GASOIL APP RETOUR',  'Total', 'Agence',\n",
        "       'ID_PRODUIT', 'CATEGORY', 'DESIGNATION', 'CA_presta', 'QTY',\n",
        "       'TRANSPORT_ACHAT', 'POIDS', 'NB_COLIS', 'TRANSPORTEUR', 'SUPPLIER',\n",
        "       'mode de paiement']"
      ]
    },
    {
      "cell_type": "code",
      "execution_count": null,
      "metadata": {
        "id": "IhhOHFmzz86o"
      },
      "outputs": [],
      "source": [
        "facture_complementaire_merged  = facture_complementaire_merged[col_order]"
      ]
    },
    {
      "cell_type": "code",
      "execution_count": null,
      "metadata": {
        "colab": {
          "base_uri": "https://localhost:8080/",
          "height": 389
        },
        "id": "gWJZA7rgxNOQ",
        "outputId": "694dbae5-f4be-4438-e8df-4c03967f9037"
      },
      "outputs": [
        {
          "output_type": "execute_result",
          "data": {
            "text/plain": [
              "   Mois                 Date  commande_VIR  Rub  \\\n",
              "0   9.0  2024-09-07 08:45:29   961266905.0   ED   \n",
              "1   9.0  2024-09-22 09:56:19   996917326.0  RPC   \n",
              "2   9.0  2024-09-30 11:05:19   961279031.0   LS   \n",
              "\n",
              "                           Libelle  Reference C.Postal         Ville  Poids  \\\n",
              "0                    EMPORTE DEPOT  KVRKHTSUO       77  EMERAINVILLE   28.0   \n",
              "1  REPRISE POUR DESTRUCTION CANAPE  DXZAGRZVH       75         PARIS    1.0   \n",
              "2                     LIV STANDARD  GJPQTDOME       92      COLOMBES  125.0   \n",
              "\n",
              "      CA  APP ALLER  APP RETOUR  GASOIL CA  GASOIL APP ALLER  \\\n",
              "0   0.00        0.0      18.312    0.00000               0.0   \n",
              "1  39.32        0.0       0.000    0.86504               0.0   \n",
              "2   0.00        0.0      81.750    0.00000               0.0   \n",
              "\n",
              "   GASOIL APP RETOUR  Total  Agence  ID_PRODUIT                    CATEGORY  \\\n",
              "0           0.402864  18.71    96.0     16317.0             Fauteuil & pouf   \n",
              "1           0.000000  40.19    96.0     10205.0  Canapé d'angle convertible   \n",
              "2           1.798500  83.55    96.0     16994.0              Canapé d'angle   \n",
              "\n",
              "                                         DESIGNATION  CA_presta  QTY  \\\n",
              "0                 Pouf ARSENE - Couleur : Gris clair        0.0  1.0   \n",
              "1  Canapé d'angle L convertible SWEDEN - Couleur ...        0.0  1.0   \n",
              "2  Canapé d'angle réversible convertible coffre A...        0.0  1.0   \n",
              "\n",
              "   TRANSPORT_ACHAT  POIDS  NB_COLIS       TRANSPORTEUR  SUPPLIER  \\\n",
              "0          24.4100   28.0       1.0    virtransport_ed  BLUE SUN   \n",
              "1         113.3939  111.0       2.0  virtransport_ls_r  BLUE SUN   \n",
              "2           0.0000  124.0       2.0  virtransport_ls_r  BLUE SUN   \n",
              "\n",
              "              mode de paiement  \n",
              "0           Commande partielle  \n",
              "1  B2B_SHOWROOMPRIVE_06_129932  \n",
              "2  B2B_SHOWROOMPRIVE_08_132210  "
            ],
            "text/html": [
              "\n",
              "  <div id=\"df-1cf40fed-cec5-4a48-873f-9fe2cf87cec2\" class=\"colab-df-container\">\n",
              "    <div>\n",
              "<style scoped>\n",
              "    .dataframe tbody tr th:only-of-type {\n",
              "        vertical-align: middle;\n",
              "    }\n",
              "\n",
              "    .dataframe tbody tr th {\n",
              "        vertical-align: top;\n",
              "    }\n",
              "\n",
              "    .dataframe thead th {\n",
              "        text-align: right;\n",
              "    }\n",
              "</style>\n",
              "<table border=\"1\" class=\"dataframe\">\n",
              "  <thead>\n",
              "    <tr style=\"text-align: right;\">\n",
              "      <th></th>\n",
              "      <th>Mois</th>\n",
              "      <th>Date</th>\n",
              "      <th>commande_VIR</th>\n",
              "      <th>Rub</th>\n",
              "      <th>Libelle</th>\n",
              "      <th>Reference</th>\n",
              "      <th>C.Postal</th>\n",
              "      <th>Ville</th>\n",
              "      <th>Poids</th>\n",
              "      <th>CA</th>\n",
              "      <th>APP ALLER</th>\n",
              "      <th>APP RETOUR</th>\n",
              "      <th>GASOIL CA</th>\n",
              "      <th>GASOIL APP ALLER</th>\n",
              "      <th>GASOIL APP RETOUR</th>\n",
              "      <th>Total</th>\n",
              "      <th>Agence</th>\n",
              "      <th>ID_PRODUIT</th>\n",
              "      <th>CATEGORY</th>\n",
              "      <th>DESIGNATION</th>\n",
              "      <th>CA_presta</th>\n",
              "      <th>QTY</th>\n",
              "      <th>TRANSPORT_ACHAT</th>\n",
              "      <th>POIDS</th>\n",
              "      <th>NB_COLIS</th>\n",
              "      <th>TRANSPORTEUR</th>\n",
              "      <th>SUPPLIER</th>\n",
              "      <th>mode de paiement</th>\n",
              "    </tr>\n",
              "  </thead>\n",
              "  <tbody>\n",
              "    <tr>\n",
              "      <th>0</th>\n",
              "      <td>9.0</td>\n",
              "      <td>2024-09-07 08:45:29</td>\n",
              "      <td>961266905.0</td>\n",
              "      <td>ED</td>\n",
              "      <td>EMPORTE DEPOT</td>\n",
              "      <td>KVRKHTSUO</td>\n",
              "      <td>77</td>\n",
              "      <td>EMERAINVILLE</td>\n",
              "      <td>28.0</td>\n",
              "      <td>0.00</td>\n",
              "      <td>0.0</td>\n",
              "      <td>18.312</td>\n",
              "      <td>0.00000</td>\n",
              "      <td>0.0</td>\n",
              "      <td>0.402864</td>\n",
              "      <td>18.71</td>\n",
              "      <td>96.0</td>\n",
              "      <td>16317.0</td>\n",
              "      <td>Fauteuil &amp; pouf</td>\n",
              "      <td>Pouf ARSENE - Couleur : Gris clair</td>\n",
              "      <td>0.0</td>\n",
              "      <td>1.0</td>\n",
              "      <td>24.4100</td>\n",
              "      <td>28.0</td>\n",
              "      <td>1.0</td>\n",
              "      <td>virtransport_ed</td>\n",
              "      <td>BLUE SUN</td>\n",
              "      <td>Commande partielle</td>\n",
              "    </tr>\n",
              "    <tr>\n",
              "      <th>1</th>\n",
              "      <td>9.0</td>\n",
              "      <td>2024-09-22 09:56:19</td>\n",
              "      <td>996917326.0</td>\n",
              "      <td>RPC</td>\n",
              "      <td>REPRISE POUR DESTRUCTION CANAPE</td>\n",
              "      <td>DXZAGRZVH</td>\n",
              "      <td>75</td>\n",
              "      <td>PARIS</td>\n",
              "      <td>1.0</td>\n",
              "      <td>39.32</td>\n",
              "      <td>0.0</td>\n",
              "      <td>0.000</td>\n",
              "      <td>0.86504</td>\n",
              "      <td>0.0</td>\n",
              "      <td>0.000000</td>\n",
              "      <td>40.19</td>\n",
              "      <td>96.0</td>\n",
              "      <td>10205.0</td>\n",
              "      <td>Canapé d'angle convertible</td>\n",
              "      <td>Canapé d'angle L convertible SWEDEN - Couleur ...</td>\n",
              "      <td>0.0</td>\n",
              "      <td>1.0</td>\n",
              "      <td>113.3939</td>\n",
              "      <td>111.0</td>\n",
              "      <td>2.0</td>\n",
              "      <td>virtransport_ls_r</td>\n",
              "      <td>BLUE SUN</td>\n",
              "      <td>B2B_SHOWROOMPRIVE_06_129932</td>\n",
              "    </tr>\n",
              "    <tr>\n",
              "      <th>2</th>\n",
              "      <td>9.0</td>\n",
              "      <td>2024-09-30 11:05:19</td>\n",
              "      <td>961279031.0</td>\n",
              "      <td>LS</td>\n",
              "      <td>LIV STANDARD</td>\n",
              "      <td>GJPQTDOME</td>\n",
              "      <td>92</td>\n",
              "      <td>COLOMBES</td>\n",
              "      <td>125.0</td>\n",
              "      <td>0.00</td>\n",
              "      <td>0.0</td>\n",
              "      <td>81.750</td>\n",
              "      <td>0.00000</td>\n",
              "      <td>0.0</td>\n",
              "      <td>1.798500</td>\n",
              "      <td>83.55</td>\n",
              "      <td>96.0</td>\n",
              "      <td>16994.0</td>\n",
              "      <td>Canapé d'angle</td>\n",
              "      <td>Canapé d'angle réversible convertible coffre A...</td>\n",
              "      <td>0.0</td>\n",
              "      <td>1.0</td>\n",
              "      <td>0.0000</td>\n",
              "      <td>124.0</td>\n",
              "      <td>2.0</td>\n",
              "      <td>virtransport_ls_r</td>\n",
              "      <td>BLUE SUN</td>\n",
              "      <td>B2B_SHOWROOMPRIVE_08_132210</td>\n",
              "    </tr>\n",
              "  </tbody>\n",
              "</table>\n",
              "</div>\n",
              "    <div class=\"colab-df-buttons\">\n",
              "\n",
              "  <div class=\"colab-df-container\">\n",
              "    <button class=\"colab-df-convert\" onclick=\"convertToInteractive('df-1cf40fed-cec5-4a48-873f-9fe2cf87cec2')\"\n",
              "            title=\"Convert this dataframe to an interactive table.\"\n",
              "            style=\"display:none;\">\n",
              "\n",
              "  <svg xmlns=\"http://www.w3.org/2000/svg\" height=\"24px\" viewBox=\"0 -960 960 960\">\n",
              "    <path d=\"M120-120v-720h720v720H120Zm60-500h600v-160H180v160Zm220 220h160v-160H400v160Zm0 220h160v-160H400v160ZM180-400h160v-160H180v160Zm440 0h160v-160H620v160ZM180-180h160v-160H180v160Zm440 0h160v-160H620v160Z\"/>\n",
              "  </svg>\n",
              "    </button>\n",
              "\n",
              "  <style>\n",
              "    .colab-df-container {\n",
              "      display:flex;\n",
              "      gap: 12px;\n",
              "    }\n",
              "\n",
              "    .colab-df-convert {\n",
              "      background-color: #E8F0FE;\n",
              "      border: none;\n",
              "      border-radius: 50%;\n",
              "      cursor: pointer;\n",
              "      display: none;\n",
              "      fill: #1967D2;\n",
              "      height: 32px;\n",
              "      padding: 0 0 0 0;\n",
              "      width: 32px;\n",
              "    }\n",
              "\n",
              "    .colab-df-convert:hover {\n",
              "      background-color: #E2EBFA;\n",
              "      box-shadow: 0px 1px 2px rgba(60, 64, 67, 0.3), 0px 1px 3px 1px rgba(60, 64, 67, 0.15);\n",
              "      fill: #174EA6;\n",
              "    }\n",
              "\n",
              "    .colab-df-buttons div {\n",
              "      margin-bottom: 4px;\n",
              "    }\n",
              "\n",
              "    [theme=dark] .colab-df-convert {\n",
              "      background-color: #3B4455;\n",
              "      fill: #D2E3FC;\n",
              "    }\n",
              "\n",
              "    [theme=dark] .colab-df-convert:hover {\n",
              "      background-color: #434B5C;\n",
              "      box-shadow: 0px 1px 3px 1px rgba(0, 0, 0, 0.15);\n",
              "      filter: drop-shadow(0px 1px 2px rgba(0, 0, 0, 0.3));\n",
              "      fill: #FFFFFF;\n",
              "    }\n",
              "  </style>\n",
              "\n",
              "    <script>\n",
              "      const buttonEl =\n",
              "        document.querySelector('#df-1cf40fed-cec5-4a48-873f-9fe2cf87cec2 button.colab-df-convert');\n",
              "      buttonEl.style.display =\n",
              "        google.colab.kernel.accessAllowed ? 'block' : 'none';\n",
              "\n",
              "      async function convertToInteractive(key) {\n",
              "        const element = document.querySelector('#df-1cf40fed-cec5-4a48-873f-9fe2cf87cec2');\n",
              "        const dataTable =\n",
              "          await google.colab.kernel.invokeFunction('convertToInteractive',\n",
              "                                                    [key], {});\n",
              "        if (!dataTable) return;\n",
              "\n",
              "        const docLinkHtml = 'Like what you see? Visit the ' +\n",
              "          '<a target=\"_blank\" href=https://colab.research.google.com/notebooks/data_table.ipynb>data table notebook</a>'\n",
              "          + ' to learn more about interactive tables.';\n",
              "        element.innerHTML = '';\n",
              "        dataTable['output_type'] = 'display_data';\n",
              "        await google.colab.output.renderOutput(dataTable, element);\n",
              "        const docLink = document.createElement('div');\n",
              "        docLink.innerHTML = docLinkHtml;\n",
              "        element.appendChild(docLink);\n",
              "      }\n",
              "    </script>\n",
              "  </div>\n",
              "\n",
              "\n",
              "<div id=\"df-e029756b-889e-4da1-ba4d-ddb2076ff752\">\n",
              "  <button class=\"colab-df-quickchart\" onclick=\"quickchart('df-e029756b-889e-4da1-ba4d-ddb2076ff752')\"\n",
              "            title=\"Suggest charts\"\n",
              "            style=\"display:none;\">\n",
              "\n",
              "<svg xmlns=\"http://www.w3.org/2000/svg\" height=\"24px\"viewBox=\"0 0 24 24\"\n",
              "     width=\"24px\">\n",
              "    <g>\n",
              "        <path d=\"M19 3H5c-1.1 0-2 .9-2 2v14c0 1.1.9 2 2 2h14c1.1 0 2-.9 2-2V5c0-1.1-.9-2-2-2zM9 17H7v-7h2v7zm4 0h-2V7h2v10zm4 0h-2v-4h2v4z\"/>\n",
              "    </g>\n",
              "</svg>\n",
              "  </button>\n",
              "\n",
              "<style>\n",
              "  .colab-df-quickchart {\n",
              "      --bg-color: #E8F0FE;\n",
              "      --fill-color: #1967D2;\n",
              "      --hover-bg-color: #E2EBFA;\n",
              "      --hover-fill-color: #174EA6;\n",
              "      --disabled-fill-color: #AAA;\n",
              "      --disabled-bg-color: #DDD;\n",
              "  }\n",
              "\n",
              "  [theme=dark] .colab-df-quickchart {\n",
              "      --bg-color: #3B4455;\n",
              "      --fill-color: #D2E3FC;\n",
              "      --hover-bg-color: #434B5C;\n",
              "      --hover-fill-color: #FFFFFF;\n",
              "      --disabled-bg-color: #3B4455;\n",
              "      --disabled-fill-color: #666;\n",
              "  }\n",
              "\n",
              "  .colab-df-quickchart {\n",
              "    background-color: var(--bg-color);\n",
              "    border: none;\n",
              "    border-radius: 50%;\n",
              "    cursor: pointer;\n",
              "    display: none;\n",
              "    fill: var(--fill-color);\n",
              "    height: 32px;\n",
              "    padding: 0;\n",
              "    width: 32px;\n",
              "  }\n",
              "\n",
              "  .colab-df-quickchart:hover {\n",
              "    background-color: var(--hover-bg-color);\n",
              "    box-shadow: 0 1px 2px rgba(60, 64, 67, 0.3), 0 1px 3px 1px rgba(60, 64, 67, 0.15);\n",
              "    fill: var(--button-hover-fill-color);\n",
              "  }\n",
              "\n",
              "  .colab-df-quickchart-complete:disabled,\n",
              "  .colab-df-quickchart-complete:disabled:hover {\n",
              "    background-color: var(--disabled-bg-color);\n",
              "    fill: var(--disabled-fill-color);\n",
              "    box-shadow: none;\n",
              "  }\n",
              "\n",
              "  .colab-df-spinner {\n",
              "    border: 2px solid var(--fill-color);\n",
              "    border-color: transparent;\n",
              "    border-bottom-color: var(--fill-color);\n",
              "    animation:\n",
              "      spin 1s steps(1) infinite;\n",
              "  }\n",
              "\n",
              "  @keyframes spin {\n",
              "    0% {\n",
              "      border-color: transparent;\n",
              "      border-bottom-color: var(--fill-color);\n",
              "      border-left-color: var(--fill-color);\n",
              "    }\n",
              "    20% {\n",
              "      border-color: transparent;\n",
              "      border-left-color: var(--fill-color);\n",
              "      border-top-color: var(--fill-color);\n",
              "    }\n",
              "    30% {\n",
              "      border-color: transparent;\n",
              "      border-left-color: var(--fill-color);\n",
              "      border-top-color: var(--fill-color);\n",
              "      border-right-color: var(--fill-color);\n",
              "    }\n",
              "    40% {\n",
              "      border-color: transparent;\n",
              "      border-right-color: var(--fill-color);\n",
              "      border-top-color: var(--fill-color);\n",
              "    }\n",
              "    60% {\n",
              "      border-color: transparent;\n",
              "      border-right-color: var(--fill-color);\n",
              "    }\n",
              "    80% {\n",
              "      border-color: transparent;\n",
              "      border-right-color: var(--fill-color);\n",
              "      border-bottom-color: var(--fill-color);\n",
              "    }\n",
              "    90% {\n",
              "      border-color: transparent;\n",
              "      border-bottom-color: var(--fill-color);\n",
              "    }\n",
              "  }\n",
              "</style>\n",
              "\n",
              "  <script>\n",
              "    async function quickchart(key) {\n",
              "      const quickchartButtonEl =\n",
              "        document.querySelector('#' + key + ' button');\n",
              "      quickchartButtonEl.disabled = true;  // To prevent multiple clicks.\n",
              "      quickchartButtonEl.classList.add('colab-df-spinner');\n",
              "      try {\n",
              "        const charts = await google.colab.kernel.invokeFunction(\n",
              "            'suggestCharts', [key], {});\n",
              "      } catch (error) {\n",
              "        console.error('Error during call to suggestCharts:', error);\n",
              "      }\n",
              "      quickchartButtonEl.classList.remove('colab-df-spinner');\n",
              "      quickchartButtonEl.classList.add('colab-df-quickchart-complete');\n",
              "    }\n",
              "    (() => {\n",
              "      let quickchartButtonEl =\n",
              "        document.querySelector('#df-e029756b-889e-4da1-ba4d-ddb2076ff752 button');\n",
              "      quickchartButtonEl.style.display =\n",
              "        google.colab.kernel.accessAllowed ? 'block' : 'none';\n",
              "    })();\n",
              "  </script>\n",
              "</div>\n",
              "\n",
              "    </div>\n",
              "  </div>\n"
            ],
            "application/vnd.google.colaboratory.intrinsic+json": {
              "type": "dataframe",
              "variable_name": "facture_complementaire_merged"
            }
          },
          "metadata": {},
          "execution_count": 292
        }
      ],
      "source": [
        "facture_complementaire_merged.head(3)"
      ]
    },
    {
      "cell_type": "code",
      "execution_count": null,
      "metadata": {
        "colab": {
          "base_uri": "https://localhost:8080/"
        },
        "id": "M0ejQVn--M6-",
        "outputId": "74803bd9-7de2-4b20-d08e-f2ecf62e9e88"
      },
      "outputs": [
        {
          "output_type": "execute_result",
          "data": {
            "text/plain": [
              "(390, 28)"
            ]
          },
          "metadata": {},
          "execution_count": 293
        }
      ],
      "source": [
        "facture_complementaire_merged.shape"
      ]
    },
    {
      "cell_type": "code",
      "execution_count": null,
      "metadata": {
        "colab": {
          "base_uri": "https://localhost:8080/",
          "height": 906
        },
        "id": "svekHFUMcsus",
        "outputId": "fb7ee1a2-787d-4163-8b7e-6bd6caae5ed3"
      },
      "outputs": [
        {
          "output_type": "execute_result",
          "data": {
            "text/plain": [
              "<Axes: >"
            ]
          },
          "metadata": {},
          "execution_count": 294
        },
        {
          "output_type": "display_data",
          "data": {
            "text/plain": [
              "<Figure size 2500x1000 with 2 Axes>"
            ],
            "image/png": "[encoded data removed]"
          },
          "metadata": {}
        }
      ],
      "source": [
        "msn.matrix(facture_complementaire_merged)"
      ]
    },
    {
      "cell_type": "code",
      "execution_count": null,
      "metadata": {
        "colab": {
          "base_uri": "https://localhost:8080/"
        },
        "id": "lHYbRhPepjgE",
        "outputId": "3e18fcb0-b9a3-48c9-fad2-0be92ced976f"
      },
      "outputs": [
        {
          "output_type": "stream",
          "name": "stdout",
          "text": [
            "Colonnes identiques : {'Poids', 'Ville', 'Libelle', 'C.Postal', 'Reference', 'TRANSPORT_ACHAT', 'POIDS', 'QTY', 'DESIGNATION', 'Agence', 'CA_presta', 'Date', 'ID_PRODUIT', 'CATEGORY', 'TRANSPORTEUR', 'mode de paiement', 'Total', 'commande_VIR', 'CA', 'Mois', 'NB_COLIS', 'Rub', 'SUPPLIER'}\n",
            "Colonnes dans df1 mais pas dans df2 : {'APPROCHE', 'saisie', 'GASOIL APP', 'Dir', 'Volume', 'Code', 'DISTRIBUTION', 'GASOIL DISTRI'}\n",
            "Colonnes dans df2 mais pas dans df1 : {'APP RETOUR', 'GASOIL APP ALLER', 'APP ALLER', 'GASOIL APP RETOUR', 'GASOIL CA'}\n"
          ]
        }
      ],
      "source": [
        "# Colonnes des deux DataFrames\n",
        "columns_prinipale = set(facture_principale_merged.columns)\n",
        "columns_complementaire = set(facture_complementaire_merged.columns)\n",
        "\n",
        "# Colonnes identiques\n",
        "identical_columns = columns_prinipale.intersection(columns_complementaire)\n",
        "\n",
        "# Colonnes différentes\n",
        "different_columns_prinipale = columns_prinipale.difference(columns_complementaire)\n",
        "different_columns_facture_complementaire = columns_complementaire.difference(columns_prinipale)\n",
        "\n",
        "# Résultats\n",
        "print(\"Colonnes identiques :\", identical_columns)\n",
        "print(\"Colonnes dans df1 mais pas dans df2 :\", different_columns_prinipale)\n",
        "print(\"Colonnes dans df2 mais pas dans df1 :\", different_columns_facture_complementaire )"
      ]
    },
    {
      "cell_type": "code",
      "execution_count": null,
      "metadata": {
        "colab": {
          "base_uri": "https://localhost:8080/"
        },
        "id": "gMb-8n95tF8s",
        "outputId": "91c85c1d-a858-44dd-8b95-472f015c940c"
      },
      "outputs": [
        {
          "output_type": "execute_result",
          "data": {
            "text/plain": [
              "Index(['Mois', 'Date', 'commande_VIR', 'Rub', 'Libelle', 'Reference',\n",
              "       'C.Postal', 'Ville', 'Poids', 'CA', 'APP ALLER', 'APP RETOUR',\n",
              "       'GASOIL CA', 'GASOIL APP ALLER', 'GASOIL APP RETOUR', 'Total', 'Agence',\n",
              "       'ID_PRODUIT', 'CATEGORY', 'DESIGNATION', 'CA_presta', 'QTY',\n",
              "       'TRANSPORT_ACHAT', 'POIDS', 'NB_COLIS', 'TRANSPORTEUR', 'SUPPLIER',\n",
              "       'mode de paiement'],\n",
              "      dtype='object')"
            ]
          },
          "metadata": {},
          "execution_count": 296
        }
      ],
      "source": [
        "facture_complementaire_merged.columns"
      ]
    },
    {
      "cell_type": "code",
      "execution_count": null,
      "metadata": {
        "colab": {
          "base_uri": "https://localhost:8080/"
        },
        "id": "8h_pOOASWK73",
        "outputId": "1dbd7bbc-8436-470c-d835-452533ef4ad1"
      },
      "outputs": [
        {
          "output_type": "stream",
          "name": "stdout",
          "text": [
            "Monthly data for Complementaire_1 has been saved.\n"
          ]
        }
      ],
      "source": [
        "# Step 1: Create or update the monthly file with Complementaire_1 sheet\n",
        "if os.path.exists(monthly_file_path):\n",
        "    with pd.ExcelWriter(monthly_file_path, engine='openpyxl', mode='a') as writer:\n",
        "        if 'Complementaire_1' not in writer.book.sheetnames:\n",
        "            facture_complementaire_merged.to_excel(writer, sheet_name='Complementaire_1', index=False)\n",
        "else:\n",
        "    with pd.ExcelWriter(monthly_file_path, engine='openpyxl', mode='w') as writer:\n",
        "        facture_complementaire_merged.to_excel(writer, sheet_name='Complementaire_1', index=False)\n",
        "\n",
        "print(\"Monthly data for Complementaire_1 has been saved.\")\n"
      ]
    },
    {
      "cell_type": "code",
      "execution_count": null,
      "metadata": {
        "colab": {
          "base_uri": "https://localhost:8080/"
        },
        "id": "YenGy9bypWzd",
        "outputId": "76fed0a7-f705-489a-a838-d5758daa364e"
      },
      "outputs": [
        {
          "output_type": "stream",
          "name": "stdout",
          "text": [
            "Annual data for Complementaire_1 has been updated.\n"
          ]
        }
      ],
      "source": [
        "# Step 1: Check if the annual file exists\n",
        "if not os.path.exists(annual_file_path):\n",
        "    # Create a new Excel file with the 'Complementaire_1' sheet\n",
        "    with pd.ExcelWriter(annual_file_path, engine='openpyxl', mode='w') as writer:\n",
        "        facture_complementaire_merged.to_excel(writer, sheet_name='Complementaire_1', index=False)\n",
        "    print(f\"Annual file created at: {annual_file_path}\")\n",
        "\n",
        "else:\n",
        "    # If the file exists, read the existing data from the 'Complementaire_1' sheet\n",
        "    try:\n",
        "        existing_annual_data = pd.read_excel(annual_file_path, sheet_name='Complementaire_1')\n",
        "        # Concatenate the existing data with the new data\n",
        "        updated_annual_data = pd.concat([existing_annual_data, facture_complementaire_merged], ignore_index=True)\n",
        "\n",
        "    except ValueError as e:\n",
        "        # Handle case where the 'Complementaire_1' sheet does not exist\n",
        "        if 'Worksheet named' in str(e):\n",
        "            print(\"Worksheet 'Complementaire_1' not found. Creating a new one.\")\n",
        "            updated_annual_data = facture_complementaire_merged\n",
        "        else:\n",
        "            raise  # Raise any other exceptions\n",
        "\n",
        "    # Save the updated data back to the annual file\n",
        "    with pd.ExcelWriter(annual_file_path, engine='openpyxl', mode='a', if_sheet_exists='replace') as writer:\n",
        "        updated_annual_data.to_excel(writer, sheet_name='Complementaire_1', index=False)\n",
        "\n",
        "    print(\"Annual data for Complementaire_1 has been updated.\")"
      ]
    },
    {
      "cell_type": "markdown",
      "metadata": {
        "id": "k3wlwAMQ_4Xp"
      },
      "source": [
        "## Transactions complementaires dans le fichier facture principale"
      ]
    },
    {
      "cell_type": "code",
      "execution_count": null,
      "metadata": {
        "colab": {
          "base_uri": "https://localhost:8080/"
        },
        "id": "JLkWIva2ttvo",
        "outputId": "0c0061c0-7092-4aa7-f4d2-18725290c259"
      },
      "outputs": [
        {
          "output_type": "execute_result",
          "data": {
            "text/plain": [
              "(483, 31)"
            ]
          },
          "metadata": {},
          "execution_count": 299
        }
      ],
      "source": [
        "facture_complementaire_switch = facture_principale_merged[~filtre_libelle]\n",
        "facture_complementaire_switch.shape"
      ]
    },
    {
      "cell_type": "code",
      "execution_count": null,
      "metadata": {
        "colab": {
          "base_uri": "https://localhost:8080/"
        },
        "id": "cia9M3TTWDxC",
        "outputId": "69caba79-5c1f-43e6-e4c3-e392be74ec20"
      },
      "outputs": [
        {
          "output_type": "execute_result",
          "data": {
            "text/plain": [
              "Index(['Code', 'commande_VIR', 'Reference', 'C.Postal', 'Ville', 'Date', 'Rub',\n",
              "       'Libelle', 'CA', 'DISTRIBUTION', 'APPROCHE', 'GASOIL DISTRI',\n",
              "       'GASOIL APP', 'Agence', 'Dir', 'Volume', 'Poids', 'saisie',\n",
              "       'ID_PRODUIT', 'CATEGORY', 'DESIGNATION', 'CA_presta', 'QTY',\n",
              "       'TRANSPORT_ACHAT', 'POIDS', 'NB_COLIS', 'TRANSPORTEUR', 'SUPPLIER',\n",
              "       'mode de paiement', 'Total', 'Mois'],\n",
              "      dtype='object')"
            ]
          },
          "metadata": {},
          "execution_count": 300
        }
      ],
      "source": [
        "facture_complementaire_switch.columns"
      ]
    },
    {
      "cell_type": "code",
      "execution_count": null,
      "metadata": {
        "id": "B4C-_Gq9tqP3"
      },
      "outputs": [],
      "source": [
        "facture_complementaire_switch = facture_complementaire_switch[colonnes_ordre]"
      ]
    },
    {
      "cell_type": "code",
      "execution_count": null,
      "metadata": {
        "colab": {
          "base_uri": "https://localhost:8080/",
          "height": 586
        },
        "id": "kOAbxGqvijxI",
        "outputId": "578a74de-a287-476d-c05e-5ba10cad3905"
      },
      "outputs": [
        {
          "output_type": "execute_result",
          "data": {
            "text/plain": [
              "Libelle\n",
              "REPRISE POUR DESTRUCTION CANAPE     294\n",
              "FRAIS ADMINISTRATIFS                107\n",
              "MONTAGE CLASSE B                     22\n",
              "PASSAGE A 4                          20\n",
              "ENLEVEMENT DEPOT                     11\n",
              "REPRISE POUR DESTRUCTION MEUBLE      10\n",
              "MONTAGE CLASSE A                      7\n",
              "RETOUCHE TEL                          3\n",
              "STOCKAGE                              2\n",
              "MONTAGE CLASSE C                      2\n",
              "REPRISE ELECTRO DEEE                  1\n",
              "RETOUCHE N°                           1\n",
              "REPRISE POUR DESTRUCTION LITERIE      1\n",
              "RETOUR REVERSE                        1\n",
              "REOTUCHE TEL                          1\n",
              "Name: count, dtype: int64"
            ],
            "text/html": [
              "<div>\n",
              "<style scoped>\n",
              "    .dataframe tbody tr th:only-of-type {\n",
              "        vertical-align: middle;\n",
              "    }\n",
              "\n",
              "    .dataframe tbody tr th {\n",
              "        vertical-align: top;\n",
              "    }\n",
              "\n",
              "    .dataframe thead th {\n",
              "        text-align: right;\n",
              "    }\n",
              "</style>\n",
              "<table border=\"1\" class=\"dataframe\">\n",
              "  <thead>\n",
              "    <tr style=\"text-align: right;\">\n",
              "      <th></th>\n",
              "      <th>count</th>\n",
              "    </tr>\n",
              "    <tr>\n",
              "      <th>Libelle</th>\n",
              "      <th></th>\n",
              "    </tr>\n",
              "  </thead>\n",
              "  <tbody>\n",
              "    <tr>\n",
              "      <th>REPRISE POUR DESTRUCTION CANAPE</th>\n",
              "      <td>294</td>\n",
              "    </tr>\n",
              "    <tr>\n",
              "      <th>FRAIS ADMINISTRATIFS</th>\n",
              "      <td>107</td>\n",
              "    </tr>\n",
              "    <tr>\n",
              "      <th>MONTAGE CLASSE B</th>\n",
              "      <td>22</td>\n",
              "    </tr>\n",
              "    <tr>\n",
              "      <th>PASSAGE A 4</th>\n",
              "      <td>20</td>\n",
              "    </tr>\n",
              "    <tr>\n",
              "      <th>ENLEVEMENT DEPOT</th>\n",
              "      <td>11</td>\n",
              "    </tr>\n",
              "    <tr>\n",
              "      <th>REPRISE POUR DESTRUCTION MEUBLE</th>\n",
              "      <td>10</td>\n",
              "    </tr>\n",
              "    <tr>\n",
              "      <th>MONTAGE CLASSE A</th>\n",
              "      <td>7</td>\n",
              "    </tr>\n",
              "    <tr>\n",
              "      <th>RETOUCHE TEL</th>\n",
              "      <td>3</td>\n",
              "    </tr>\n",
              "    <tr>\n",
              "      <th>STOCKAGE</th>\n",
              "      <td>2</td>\n",
              "    </tr>\n",
              "    <tr>\n",
              "      <th>MONTAGE CLASSE C</th>\n",
              "      <td>2</td>\n",
              "    </tr>\n",
              "    <tr>\n",
              "      <th>REPRISE ELECTRO DEEE</th>\n",
              "      <td>1</td>\n",
              "    </tr>\n",
              "    <tr>\n",
              "      <th>RETOUCHE N°</th>\n",
              "      <td>1</td>\n",
              "    </tr>\n",
              "    <tr>\n",
              "      <th>REPRISE POUR DESTRUCTION LITERIE</th>\n",
              "      <td>1</td>\n",
              "    </tr>\n",
              "    <tr>\n",
              "      <th>RETOUR REVERSE</th>\n",
              "      <td>1</td>\n",
              "    </tr>\n",
              "    <tr>\n",
              "      <th>REOTUCHE TEL</th>\n",
              "      <td>1</td>\n",
              "    </tr>\n",
              "  </tbody>\n",
              "</table>\n",
              "</div><br><label><b>dtype:</b> int64</label>"
            ]
          },
          "metadata": {},
          "execution_count": 302
        }
      ],
      "source": [
        "facture_complementaire_switch['Libelle'].value_counts()"
      ]
    },
    {
      "cell_type": "code",
      "execution_count": null,
      "metadata": {
        "colab": {
          "base_uri": "https://localhost:8080/"
        },
        "id": "GNU8mPk_fk6a",
        "outputId": "c6cdb2b7-5474-4c14-b1b6-264932416135"
      },
      "outputs": [
        {
          "output_type": "stream",
          "name": "stdout",
          "text": [
            "Monthly data for Complementaire_2 has been saved.\n"
          ]
        }
      ],
      "source": [
        "# Step 1: Create or update the monthly file with Complementaire_2 sheet\n",
        "if os.path.exists(monthly_file_path):\n",
        "    with pd.ExcelWriter(monthly_file_path, engine='openpyxl', mode='a') as writer:\n",
        "        if 'Complementaire_2' not in writer.book.sheetnames:\n",
        "            facture_complementaire_switch.to_excel(writer, sheet_name='Complementaire_2', index=False)\n",
        "else:\n",
        "    with pd.ExcelWriter(monthly_file_path, engine='openpyxl', mode='w') as writer:\n",
        "        facture_complementaire_switch.to_excel(writer, sheet_name='Complementaire_2', index=False)\n",
        "\n",
        "print(\"Monthly data for Complementaire_2 has been saved.\")\n"
      ]
    },
    {
      "cell_type": "code",
      "execution_count": null,
      "metadata": {
        "colab": {
          "base_uri": "https://localhost:8080/"
        },
        "id": "IvL4au9ufOjT",
        "outputId": "3bdece76-b551-4436-ced2-58b2e5810758"
      },
      "outputs": [
        {
          "output_type": "stream",
          "name": "stdout",
          "text": [
            "Annual data for Complementaire_2 has been updated.\n"
          ]
        }
      ],
      "source": [
        "# Step 1: Check if the annual file exists\n",
        "if not os.path.exists(annual_file_path):\n",
        "    # Create a new Excel file with the 'Complementaire_2' sheet\n",
        "    with pd.ExcelWriter(annual_file_path, engine='openpyxl', mode='w') as writer:\n",
        "        facture_complementaire_switch.to_excel(writer, sheet_name='Complementaire_2', index=False)\n",
        "    print(f\"Annual file created at: {annual_file_path}\")\n",
        "\n",
        "else:\n",
        "    # If the file exists, read the existing data from the 'Complementaire_2' sheet\n",
        "    try:\n",
        "        existing_annual_data = pd.read_excel(annual_file_path, sheet_name='Complementaire_2')\n",
        "        # Concatenate the existing data with the new data\n",
        "        updated_annual_data = pd.concat([existing_annual_data,facture_complementaire_switch], ignore_index=True)\n",
        "\n",
        "    except ValueError as e:\n",
        "        # Handle case where the 'Complementaire_2' sheet does not exist\n",
        "        if 'Worksheet named' in str(e):\n",
        "            print(\"Worksheet 'Complementaire_2' not found. Creating a new one.\")\n",
        "            updated_annual_data = facture_complementaire_switch\n",
        "        else:\n",
        "            raise  # Raise any other exceptions\n",
        "\n",
        "    # Save the updated data back to the annual file\n",
        "    with pd.ExcelWriter(annual_file_path, engine='openpyxl', mode='a', if_sheet_exists='replace') as writer:\n",
        "        updated_annual_data.to_excel(writer, sheet_name='Complementaire_2', index=False)\n",
        "\n",
        "    print(\"Annual data for Complementaire_2 has been updated.\")"
      ]
    }
  ],
  "metadata": {
    "colab": {
      "provenance": []
    },
    "kernelspec": {
      "display_name": "Python 3",
      "name": "python3"
    },
    "language_info": {
      "name": "python"
    }
  },
  "nbformat": 4,
  "nbformat_minor": 0
}